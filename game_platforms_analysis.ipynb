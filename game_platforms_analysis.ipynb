{
 "cells": [
  {
   "cell_type": "markdown",
   "metadata": {},
   "source": [
    "## Сборный проект"
   ]
  },
  {
   "cell_type": "markdown",
   "metadata": {},
   "source": [
    "Интернет-магазине «Стримчик» продаёт по всему миру компьютерные игры.\n",
    "Нам необходимо выявить определяющие успешность игры закономерности. Это позволит сделать ставку на потенциально популярный продукт и спланировать рекламные кампании на 2017 год.\n",
    "Из открытых источников доступны исторические данные о продажах игр, оценки пользователей и экспертов, жанры и платформы до 2016 года."
   ]
  },
  {
   "cell_type": "markdown",
   "metadata": {},
   "source": [
    "### План:"
   ]
  },
  {
   "cell_type": "markdown",
   "metadata": {},
   "source": [
    "1. Открыть файл и изучить общую информацию, выявить проблемы в данных\n",
    "2. Предобработка данных:\n",
    " - Заменить название столбцов (привести к нижнему регистру);\n",
    " - Привести данные к нужным типам;\n",
    " - Обработать пропуски:\n",
    "    - изучить пропущенные значения и заполнить пропуски, где это возможно \n",
    "    - указать возможные причины пропусков\n",
    "    - описать обработку аббревиатуры \"tbd\"\n",
    " - Посчитать и записать в отдельный столбец суммарные продажи во всех регионах;\n",
    "3. Провести иссследовательский анализ данных:\n",
    "  - Посчитать сколько игр выпускалось в разные годы (визуализировать на графике);\n",
    "  - Выяснить как менялись продажи по платформам;\n",
    "  - Выбрать платформы с наибольшими суммарными продажами и построить распределение по годам;\n",
    "  - Выявить за какой характерный срок появляются новые и исчезают старые платформы;\n",
    "  - Определить актуальный период для анализа;\n",
    "  - Выяснить,какие платформы лидируют по продажам, растут или падают, выбрать несколько потенциально прибыльных платформ;\n",
    "  - Построить график «ящик с усами» по глобальным продажам игр в разбивке по платформам;\n",
    "  - Построить диаграмму рассеяния, посчитать корреляцию между отзывами и продажами и определить, как влияют на продажи внутри одной популярной платформы отзывы пользователей и критиков;\n",
    "  - Соотнести выводы из предыдущего пункта с продажами игр на других платформах;\n",
    "  - Посмотреть общее распределение игр по жанрам: выявить самые прибыльные жанры, жанры с высокими и низкими продажами\n",
    "4. Составить портрет пользователя каждого региона:\n",
    "  - Определить для пользователя каждого региона (NA, EU, JP):\n",
    "      - самые популярные платформы (топ-5)\n",
    "      - самые популярные жанры (топ-5)\n",
    "      - выяснить влияет ли рейтинг ESRB на продажи в отдельном регионе\n",
    "5. Проверить гипотезы:\n",
    "  - cредние пользовательские рейтинги платформ Xbox One и PC одинаковые;\n",
    "  - cредние пользовательские рейтинги жанров Action и Sports разные.\n",
    "6. Общий вывод\n",
    "\n",
    "    "
   ]
  },
  {
   "cell_type": "code",
   "execution_count": 1,
   "metadata": {},
   "outputs": [],
   "source": [
    "import pandas as pd\n",
    "import numpy as np\n",
    "import matplotlib.pyplot as plt\n",
    "import pylab as pl\n",
    "import matplotlib.patches as mpatches\n",
    "from scipy import stats as st\n",
    "\n",
    "game_data = pd.read_csv('/datasets/games.csv')"
   ]
  },
  {
   "cell_type": "code",
   "execution_count": 2,
   "metadata": {},
   "outputs": [
    {
     "data": {
      "text/html": [
       "<div>\n",
       "<style scoped>\n",
       "    .dataframe tbody tr th:only-of-type {\n",
       "        vertical-align: middle;\n",
       "    }\n",
       "\n",
       "    .dataframe tbody tr th {\n",
       "        vertical-align: top;\n",
       "    }\n",
       "\n",
       "    .dataframe thead th {\n",
       "        text-align: right;\n",
       "    }\n",
       "</style>\n",
       "<table border=\"1\" class=\"dataframe\">\n",
       "  <thead>\n",
       "    <tr style=\"text-align: right;\">\n",
       "      <th></th>\n",
       "      <th>Name</th>\n",
       "      <th>Platform</th>\n",
       "      <th>Year_of_Release</th>\n",
       "      <th>Genre</th>\n",
       "      <th>NA_sales</th>\n",
       "      <th>EU_sales</th>\n",
       "      <th>JP_sales</th>\n",
       "      <th>Other_sales</th>\n",
       "      <th>Critic_Score</th>\n",
       "      <th>User_Score</th>\n",
       "      <th>Rating</th>\n",
       "    </tr>\n",
       "  </thead>\n",
       "  <tbody>\n",
       "    <tr>\n",
       "      <td>0</td>\n",
       "      <td>Wii Sports</td>\n",
       "      <td>Wii</td>\n",
       "      <td>2006.0</td>\n",
       "      <td>Sports</td>\n",
       "      <td>41.36</td>\n",
       "      <td>28.96</td>\n",
       "      <td>3.77</td>\n",
       "      <td>8.45</td>\n",
       "      <td>76.0</td>\n",
       "      <td>8</td>\n",
       "      <td>E</td>\n",
       "    </tr>\n",
       "    <tr>\n",
       "      <td>1</td>\n",
       "      <td>Super Mario Bros.</td>\n",
       "      <td>NES</td>\n",
       "      <td>1985.0</td>\n",
       "      <td>Platform</td>\n",
       "      <td>29.08</td>\n",
       "      <td>3.58</td>\n",
       "      <td>6.81</td>\n",
       "      <td>0.77</td>\n",
       "      <td>NaN</td>\n",
       "      <td>NaN</td>\n",
       "      <td>NaN</td>\n",
       "    </tr>\n",
       "    <tr>\n",
       "      <td>2</td>\n",
       "      <td>Mario Kart Wii</td>\n",
       "      <td>Wii</td>\n",
       "      <td>2008.0</td>\n",
       "      <td>Racing</td>\n",
       "      <td>15.68</td>\n",
       "      <td>12.76</td>\n",
       "      <td>3.79</td>\n",
       "      <td>3.29</td>\n",
       "      <td>82.0</td>\n",
       "      <td>8.3</td>\n",
       "      <td>E</td>\n",
       "    </tr>\n",
       "    <tr>\n",
       "      <td>3</td>\n",
       "      <td>Wii Sports Resort</td>\n",
       "      <td>Wii</td>\n",
       "      <td>2009.0</td>\n",
       "      <td>Sports</td>\n",
       "      <td>15.61</td>\n",
       "      <td>10.93</td>\n",
       "      <td>3.28</td>\n",
       "      <td>2.95</td>\n",
       "      <td>80.0</td>\n",
       "      <td>8</td>\n",
       "      <td>E</td>\n",
       "    </tr>\n",
       "    <tr>\n",
       "      <td>4</td>\n",
       "      <td>Pokemon Red/Pokemon Blue</td>\n",
       "      <td>GB</td>\n",
       "      <td>1996.0</td>\n",
       "      <td>Role-Playing</td>\n",
       "      <td>11.27</td>\n",
       "      <td>8.89</td>\n",
       "      <td>10.22</td>\n",
       "      <td>1.00</td>\n",
       "      <td>NaN</td>\n",
       "      <td>NaN</td>\n",
       "      <td>NaN</td>\n",
       "    </tr>\n",
       "    <tr>\n",
       "      <td>5</td>\n",
       "      <td>Tetris</td>\n",
       "      <td>GB</td>\n",
       "      <td>1989.0</td>\n",
       "      <td>Puzzle</td>\n",
       "      <td>23.20</td>\n",
       "      <td>2.26</td>\n",
       "      <td>4.22</td>\n",
       "      <td>0.58</td>\n",
       "      <td>NaN</td>\n",
       "      <td>NaN</td>\n",
       "      <td>NaN</td>\n",
       "    </tr>\n",
       "    <tr>\n",
       "      <td>6</td>\n",
       "      <td>New Super Mario Bros.</td>\n",
       "      <td>DS</td>\n",
       "      <td>2006.0</td>\n",
       "      <td>Platform</td>\n",
       "      <td>11.28</td>\n",
       "      <td>9.14</td>\n",
       "      <td>6.50</td>\n",
       "      <td>2.88</td>\n",
       "      <td>89.0</td>\n",
       "      <td>8.5</td>\n",
       "      <td>E</td>\n",
       "    </tr>\n",
       "    <tr>\n",
       "      <td>7</td>\n",
       "      <td>Wii Play</td>\n",
       "      <td>Wii</td>\n",
       "      <td>2006.0</td>\n",
       "      <td>Misc</td>\n",
       "      <td>13.96</td>\n",
       "      <td>9.18</td>\n",
       "      <td>2.93</td>\n",
       "      <td>2.84</td>\n",
       "      <td>58.0</td>\n",
       "      <td>6.6</td>\n",
       "      <td>E</td>\n",
       "    </tr>\n",
       "    <tr>\n",
       "      <td>8</td>\n",
       "      <td>New Super Mario Bros. Wii</td>\n",
       "      <td>Wii</td>\n",
       "      <td>2009.0</td>\n",
       "      <td>Platform</td>\n",
       "      <td>14.44</td>\n",
       "      <td>6.94</td>\n",
       "      <td>4.70</td>\n",
       "      <td>2.24</td>\n",
       "      <td>87.0</td>\n",
       "      <td>8.4</td>\n",
       "      <td>E</td>\n",
       "    </tr>\n",
       "    <tr>\n",
       "      <td>9</td>\n",
       "      <td>Duck Hunt</td>\n",
       "      <td>NES</td>\n",
       "      <td>1984.0</td>\n",
       "      <td>Shooter</td>\n",
       "      <td>26.93</td>\n",
       "      <td>0.63</td>\n",
       "      <td>0.28</td>\n",
       "      <td>0.47</td>\n",
       "      <td>NaN</td>\n",
       "      <td>NaN</td>\n",
       "      <td>NaN</td>\n",
       "    </tr>\n",
       "  </tbody>\n",
       "</table>\n",
       "</div>"
      ],
      "text/plain": [
       "                        Name Platform  Year_of_Release         Genre  \\\n",
       "0                 Wii Sports      Wii           2006.0        Sports   \n",
       "1          Super Mario Bros.      NES           1985.0      Platform   \n",
       "2             Mario Kart Wii      Wii           2008.0        Racing   \n",
       "3          Wii Sports Resort      Wii           2009.0        Sports   \n",
       "4   Pokemon Red/Pokemon Blue       GB           1996.0  Role-Playing   \n",
       "5                     Tetris       GB           1989.0        Puzzle   \n",
       "6      New Super Mario Bros.       DS           2006.0      Platform   \n",
       "7                   Wii Play      Wii           2006.0          Misc   \n",
       "8  New Super Mario Bros. Wii      Wii           2009.0      Platform   \n",
       "9                  Duck Hunt      NES           1984.0       Shooter   \n",
       "\n",
       "   NA_sales  EU_sales  JP_sales  Other_sales  Critic_Score User_Score Rating  \n",
       "0     41.36     28.96      3.77         8.45          76.0          8      E  \n",
       "1     29.08      3.58      6.81         0.77           NaN        NaN    NaN  \n",
       "2     15.68     12.76      3.79         3.29          82.0        8.3      E  \n",
       "3     15.61     10.93      3.28         2.95          80.0          8      E  \n",
       "4     11.27      8.89     10.22         1.00           NaN        NaN    NaN  \n",
       "5     23.20      2.26      4.22         0.58           NaN        NaN    NaN  \n",
       "6     11.28      9.14      6.50         2.88          89.0        8.5      E  \n",
       "7     13.96      9.18      2.93         2.84          58.0        6.6      E  \n",
       "8     14.44      6.94      4.70         2.24          87.0        8.4      E  \n",
       "9     26.93      0.63      0.28         0.47           NaN        NaN    NaN  "
      ]
     },
     "execution_count": 2,
     "metadata": {},
     "output_type": "execute_result"
    }
   ],
   "source": [
    "#output data\n",
    "game_data.head(10)"
   ]
  },
  {
   "cell_type": "code",
   "execution_count": 3,
   "metadata": {},
   "outputs": [
    {
     "name": "stdout",
     "output_type": "stream",
     "text": [
      "<class 'pandas.core.frame.DataFrame'>\n",
      "RangeIndex: 16715 entries, 0 to 16714\n",
      "Data columns (total 11 columns):\n",
      "Name               16713 non-null object\n",
      "Platform           16715 non-null object\n",
      "Year_of_Release    16446 non-null float64\n",
      "Genre              16713 non-null object\n",
      "NA_sales           16715 non-null float64\n",
      "EU_sales           16715 non-null float64\n",
      "JP_sales           16715 non-null float64\n",
      "Other_sales        16715 non-null float64\n",
      "Critic_Score       8137 non-null float64\n",
      "User_Score         10014 non-null object\n",
      "Rating             9949 non-null object\n",
      "dtypes: float64(6), object(5)\n",
      "memory usage: 1.4+ MB\n"
     ]
    }
   ],
   "source": [
    "#check info and type\n",
    "game_data.info()"
   ]
  },
  {
   "cell_type": "code",
   "execution_count": 4,
   "metadata": {},
   "outputs": [
    {
     "data": {
      "text/plain": [
       "Name                  2\n",
       "Platform              0\n",
       "Year_of_Release     269\n",
       "Genre                 2\n",
       "NA_sales              0\n",
       "EU_sales              0\n",
       "JP_sales              0\n",
       "Other_sales           0\n",
       "Critic_Score       8578\n",
       "User_Score         6701\n",
       "Rating             6766\n",
       "dtype: int64"
      ]
     },
     "metadata": {},
     "output_type": "display_data"
    }
   ],
   "source": [
    "#check missing values\n",
    "display(game_data.isna().sum())"
   ]
  },
  {
   "cell_type": "code",
   "execution_count": 5,
   "metadata": {},
   "outputs": [
    {
     "data": {
      "text/html": [
       "<style  type=\"text/css\" >\n",
       "    #T_93c6e1be_c503_11ea_b4f3_02420a39889d tr:hover {\n",
       "          background-color: #0B62B9;\n",
       "    }</style><table id=\"T_93c6e1be_c503_11ea_b4f3_02420a39889d\" ><thead>    <tr>        <th class=\"blank level0\" ></th>        <th class=\"col_heading level0 col0\" >Кол-во пропусков</th>        <th class=\"col_heading level0 col1\" >Процент пропусков, %</th>    </tr></thead><tbody>\n",
       "                <tr>\n",
       "                        <th id=\"T_93c6e1be_c503_11ea_b4f3_02420a39889dlevel0_row0\" class=\"row_heading level0 row0\" >Name</th>\n",
       "                        <td id=\"T_93c6e1be_c503_11ea_b4f3_02420a39889drow0_col0\" class=\"data row0 col0\" >2</td>\n",
       "                        <td id=\"T_93c6e1be_c503_11ea_b4f3_02420a39889drow0_col1\" class=\"data row0 col1\" >0.000119653</td>\n",
       "            </tr>\n",
       "            <tr>\n",
       "                        <th id=\"T_93c6e1be_c503_11ea_b4f3_02420a39889dlevel0_row1\" class=\"row_heading level0 row1\" >Platform</th>\n",
       "                        <td id=\"T_93c6e1be_c503_11ea_b4f3_02420a39889drow1_col0\" class=\"data row1 col0\" >0</td>\n",
       "                        <td id=\"T_93c6e1be_c503_11ea_b4f3_02420a39889drow1_col1\" class=\"data row1 col1\" >0</td>\n",
       "            </tr>\n",
       "            <tr>\n",
       "                        <th id=\"T_93c6e1be_c503_11ea_b4f3_02420a39889dlevel0_row2\" class=\"row_heading level0 row2\" >Year_of_Release</th>\n",
       "                        <td id=\"T_93c6e1be_c503_11ea_b4f3_02420a39889drow2_col0\" class=\"data row2 col0\" >269</td>\n",
       "                        <td id=\"T_93c6e1be_c503_11ea_b4f3_02420a39889drow2_col1\" class=\"data row2 col1\" >0.0160933</td>\n",
       "            </tr>\n",
       "            <tr>\n",
       "                        <th id=\"T_93c6e1be_c503_11ea_b4f3_02420a39889dlevel0_row3\" class=\"row_heading level0 row3\" >Genre</th>\n",
       "                        <td id=\"T_93c6e1be_c503_11ea_b4f3_02420a39889drow3_col0\" class=\"data row3 col0\" >2</td>\n",
       "                        <td id=\"T_93c6e1be_c503_11ea_b4f3_02420a39889drow3_col1\" class=\"data row3 col1\" >0.000119653</td>\n",
       "            </tr>\n",
       "            <tr>\n",
       "                        <th id=\"T_93c6e1be_c503_11ea_b4f3_02420a39889dlevel0_row4\" class=\"row_heading level0 row4\" >NA_sales</th>\n",
       "                        <td id=\"T_93c6e1be_c503_11ea_b4f3_02420a39889drow4_col0\" class=\"data row4 col0\" >0</td>\n",
       "                        <td id=\"T_93c6e1be_c503_11ea_b4f3_02420a39889drow4_col1\" class=\"data row4 col1\" >0</td>\n",
       "            </tr>\n",
       "            <tr>\n",
       "                        <th id=\"T_93c6e1be_c503_11ea_b4f3_02420a39889dlevel0_row5\" class=\"row_heading level0 row5\" >EU_sales</th>\n",
       "                        <td id=\"T_93c6e1be_c503_11ea_b4f3_02420a39889drow5_col0\" class=\"data row5 col0\" >0</td>\n",
       "                        <td id=\"T_93c6e1be_c503_11ea_b4f3_02420a39889drow5_col1\" class=\"data row5 col1\" >0</td>\n",
       "            </tr>\n",
       "            <tr>\n",
       "                        <th id=\"T_93c6e1be_c503_11ea_b4f3_02420a39889dlevel0_row6\" class=\"row_heading level0 row6\" >JP_sales</th>\n",
       "                        <td id=\"T_93c6e1be_c503_11ea_b4f3_02420a39889drow6_col0\" class=\"data row6 col0\" >0</td>\n",
       "                        <td id=\"T_93c6e1be_c503_11ea_b4f3_02420a39889drow6_col1\" class=\"data row6 col1\" >0</td>\n",
       "            </tr>\n",
       "            <tr>\n",
       "                        <th id=\"T_93c6e1be_c503_11ea_b4f3_02420a39889dlevel0_row7\" class=\"row_heading level0 row7\" >Other_sales</th>\n",
       "                        <td id=\"T_93c6e1be_c503_11ea_b4f3_02420a39889drow7_col0\" class=\"data row7 col0\" >0</td>\n",
       "                        <td id=\"T_93c6e1be_c503_11ea_b4f3_02420a39889drow7_col1\" class=\"data row7 col1\" >0</td>\n",
       "            </tr>\n",
       "            <tr>\n",
       "                        <th id=\"T_93c6e1be_c503_11ea_b4f3_02420a39889dlevel0_row8\" class=\"row_heading level0 row8\" >Critic_Score</th>\n",
       "                        <td id=\"T_93c6e1be_c503_11ea_b4f3_02420a39889drow8_col0\" class=\"data row8 col0\" >8578</td>\n",
       "                        <td id=\"T_93c6e1be_c503_11ea_b4f3_02420a39889drow8_col1\" class=\"data row8 col1\" >0.513192</td>\n",
       "            </tr>\n",
       "            <tr>\n",
       "                        <th id=\"T_93c6e1be_c503_11ea_b4f3_02420a39889dlevel0_row9\" class=\"row_heading level0 row9\" >User_Score</th>\n",
       "                        <td id=\"T_93c6e1be_c503_11ea_b4f3_02420a39889drow9_col0\" class=\"data row9 col0\" >6701</td>\n",
       "                        <td id=\"T_93c6e1be_c503_11ea_b4f3_02420a39889drow9_col1\" class=\"data row9 col1\" >0.400897</td>\n",
       "            </tr>\n",
       "            <tr>\n",
       "                        <th id=\"T_93c6e1be_c503_11ea_b4f3_02420a39889dlevel0_row10\" class=\"row_heading level0 row10\" >Rating</th>\n",
       "                        <td id=\"T_93c6e1be_c503_11ea_b4f3_02420a39889drow10_col0\" class=\"data row10 col0\" >6766</td>\n",
       "                        <td id=\"T_93c6e1be_c503_11ea_b4f3_02420a39889drow10_col1\" class=\"data row10 col1\" >0.404786</td>\n",
       "            </tr>\n",
       "    </tbody></table>"
      ],
      "text/plain": [
       "<pandas.io.formats.style.Styler at 0x7ff8e3075b90>"
      ]
     },
     "execution_count": 5,
     "metadata": {},
     "output_type": "execute_result"
    }
   ],
   "source": [
    "#print(game_data.isna().sum())\n",
    "game_data\\\n",
    "    .isna()\\\n",
    "    .sum()\\\n",
    "    .to_frame()\\\n",
    "    .rename(columns={0: 'Кол-во пропусков'})\\\n",
    "    .assign(perc = lambda row: row['Кол-во пропусков']/game_data.shape[0])\\\n",
    "    .rename(columns={'perc': 'Процент пропусков, %'})\\\n",
    "    .style.set_table_styles(\n",
    "        [{'selector': 'tr:hover',\n",
    "          'props': [('background-color', '#0B62B9')]}]\n",
    "    )"
   ]
  },
  {
   "cell_type": "markdown",
   "metadata": {},
   "source": [
    "### Вывод"
   ]
  },
  {
   "cell_type": "markdown",
   "metadata": {},
   "source": [
    "Загруженый датасет состоит из 16715 строк и 11 столбцов. \n",
    "- После получения информации и описания таблицы методами head() и info() мы заметили, что столбцу Year_of_Release присвоен тип данных float, однако столбец содержит целочисленные значения. Столбец User_score содержит дробные значения - оценка пользователей (максимум 10), однако ему присвоен тип данных object, причина в значениях, содержащих аббревиатуру tbd. В следующем пункте мы обработаем это значение и приведем данные к нужному типу.\n",
    "- С помощью метода .isna().sum() мы обнаружили, что в столбце Year_of_Release около 1,5% пропущенных значений, в следующем пункте мы удалим пропущенные значения, так как это небольшой процент от общего датасета и удаление этих значений не повлияет на дальнейший анализ. В столбцах Critic_Score,User_Score и Rating около 40-50% пропущенных данных. Причиной пропусков может являтся не достаточная популярность некоторых игр, и  как следствие отсутствие оценок на них. Так же отсутствие оценок может быть связано с тем, что игра относительно недавно вышла в релиз и по ней еще нет достаточного количества отзывов.\n"
   ]
  },
  {
   "cell_type": "markdown",
   "metadata": {},
   "source": [
    "### Шаг 2. Подготовьте данные"
   ]
  },
  {
   "cell_type": "code",
   "execution_count": 6,
   "metadata": {},
   "outputs": [],
   "source": [
    "#change case to lower\n",
    "game_data.columns = map(str.lower, game_data.columns)"
   ]
  },
  {
   "cell_type": "code",
   "execution_count": 7,
   "metadata": {},
   "outputs": [
    {
     "name": "stdout",
     "output_type": "stream",
     "text": [
      "Number of missing year of release after refill: 269\n"
     ]
    }
   ],
   "source": [
    "#check number of missing data in year_of_release column\n",
    "print('Number of missing year of release after refill: {}'.format(game_data.year_of_release.isna().sum()))"
   ]
  },
  {
   "cell_type": "markdown",
   "metadata": {},
   "source": [
    "Сгруппируем датасет по столбцу name и вычислим наиболее частотные значение year_of_release по названиям игр. Заменим пропущенные значения в столбце year_of_release, где это возможно, на наиболее частотные."
   ]
  },
  {
   "cell_type": "code",
   "execution_count": 8,
   "metadata": {},
   "outputs": [],
   "source": [
    "#we don't use the mod function because when it's 2 highest frequency, it returns a list.\n",
    "def find_higest_frequency(group):\n",
    "    if (group.any()):\n",
    "        return group.value_counts().idxmax()\n",
    "    return None\n",
    "\n",
    "mode_year_by_name = game_data.name.map(game_data.groupby('name').year_of_release.agg(find_higest_frequency))\n",
    "game_data.year_of_release = game_data.year_of_release.fillna(mode_year_by_name)"
   ]
  },
  {
   "cell_type": "code",
   "execution_count": 9,
   "metadata": {},
   "outputs": [
    {
     "name": "stdout",
     "output_type": "stream",
     "text": [
      "Number of missing year of release after refill: 146\n"
     ]
    }
   ],
   "source": [
    "print('Number of missing year of release after refill: {}'.format(game_data.year_of_release.isna().sum()))"
   ]
  },
  {
   "cell_type": "markdown",
   "metadata": {},
   "source": [
    "Отфильтруем строки с пропущенными значениями year_of_release, которые не удалось заменить на наиболее частотные значения. Процент пропущенных значений составляет менее 1% и не повлияет на дальнейший анализ данных."
   ]
  },
  {
   "cell_type": "code",
   "execution_count": 10,
   "metadata": {},
   "outputs": [],
   "source": [
    "#filter na value in year reliease because the percentage of missing value is very low\n",
    "#change type to integer\n",
    "game_data = game_data[~game_data.year_of_release.isna()]\n",
    "game_data.year_of_release.apply(float.is_integer).all()\n",
    "game_data.year_of_release = game_data.year_of_release.astype(int)"
   ]
  },
  {
   "cell_type": "code",
   "execution_count": 11,
   "metadata": {},
   "outputs": [
    {
     "name": "stdout",
     "output_type": "stream",
     "text": [
      "Percentage of tbd: 14.45%\n",
      "Percentage of NA: 40.04%\n"
     ]
    }
   ],
   "source": [
    "#get a better understanding of the proportion of tbd and NA values in user_score\n",
    "percent_tbd = len(game_data.loc[game_data.user_score == 'tbd'].user_score) / len(game_data.user_score)\n",
    "percent_na = game_data.user_score.isna().sum() / len(game_data.user_score)\n",
    "print('Percentage of tbd: {:.2%}'.format(percent_tbd))\n",
    "print('Percentage of NA: {:.2%}'.format(percent_na))"
   ]
  },
  {
   "cell_type": "code",
   "execution_count": 12,
   "metadata": {},
   "outputs": [
    {
     "data": {
      "text/html": [
       "<div>\n",
       "<style scoped>\n",
       "    .dataframe tbody tr th:only-of-type {\n",
       "        vertical-align: middle;\n",
       "    }\n",
       "\n",
       "    .dataframe tbody tr th {\n",
       "        vertical-align: top;\n",
       "    }\n",
       "\n",
       "    .dataframe thead th {\n",
       "        text-align: right;\n",
       "    }\n",
       "</style>\n",
       "<table border=\"1\" class=\"dataframe\">\n",
       "  <thead>\n",
       "    <tr style=\"text-align: right;\">\n",
       "      <th></th>\n",
       "      <th>year_of_release</th>\n",
       "      <th>na_sales</th>\n",
       "      <th>eu_sales</th>\n",
       "      <th>jp_sales</th>\n",
       "      <th>other_sales</th>\n",
       "      <th>critic_score</th>\n",
       "    </tr>\n",
       "  </thead>\n",
       "  <tbody>\n",
       "    <tr>\n",
       "      <td>count</td>\n",
       "      <td>2394.000000</td>\n",
       "      <td>2394.000000</td>\n",
       "      <td>2394.000000</td>\n",
       "      <td>2394.000000</td>\n",
       "      <td>2394.000000</td>\n",
       "      <td>1069.000000</td>\n",
       "    </tr>\n",
       "    <tr>\n",
       "      <td>mean</td>\n",
       "      <td>2007.446533</td>\n",
       "      <td>0.125831</td>\n",
       "      <td>0.043772</td>\n",
       "      <td>0.002761</td>\n",
       "      <td>0.015940</td>\n",
       "      <td>60.779233</td>\n",
       "    </tr>\n",
       "    <tr>\n",
       "      <td>std</td>\n",
       "      <td>3.483209</td>\n",
       "      <td>0.176734</td>\n",
       "      <td>0.111958</td>\n",
       "      <td>0.026297</td>\n",
       "      <td>0.039359</td>\n",
       "      <td>11.188373</td>\n",
       "    </tr>\n",
       "    <tr>\n",
       "      <td>min</td>\n",
       "      <td>1997.000000</td>\n",
       "      <td>0.000000</td>\n",
       "      <td>0.000000</td>\n",
       "      <td>0.000000</td>\n",
       "      <td>0.000000</td>\n",
       "      <td>23.000000</td>\n",
       "    </tr>\n",
       "    <tr>\n",
       "      <td>25%</td>\n",
       "      <td>2005.000000</td>\n",
       "      <td>0.030000</td>\n",
       "      <td>0.000000</td>\n",
       "      <td>0.000000</td>\n",
       "      <td>0.000000</td>\n",
       "      <td>54.000000</td>\n",
       "    </tr>\n",
       "    <tr>\n",
       "      <td>50%</td>\n",
       "      <td>2008.000000</td>\n",
       "      <td>0.080000</td>\n",
       "      <td>0.010000</td>\n",
       "      <td>0.000000</td>\n",
       "      <td>0.010000</td>\n",
       "      <td>62.000000</td>\n",
       "    </tr>\n",
       "    <tr>\n",
       "      <td>75%</td>\n",
       "      <td>2010.000000</td>\n",
       "      <td>0.150000</td>\n",
       "      <td>0.040000</td>\n",
       "      <td>0.000000</td>\n",
       "      <td>0.020000</td>\n",
       "      <td>69.000000</td>\n",
       "    </tr>\n",
       "    <tr>\n",
       "      <td>max</td>\n",
       "      <td>2016.000000</td>\n",
       "      <td>3.450000</td>\n",
       "      <td>2.590000</td>\n",
       "      <td>0.860000</td>\n",
       "      <td>1.090000</td>\n",
       "      <td>90.000000</td>\n",
       "    </tr>\n",
       "  </tbody>\n",
       "</table>\n",
       "</div>"
      ],
      "text/plain": [
       "       year_of_release     na_sales     eu_sales     jp_sales  other_sales  \\\n",
       "count      2394.000000  2394.000000  2394.000000  2394.000000  2394.000000   \n",
       "mean       2007.446533     0.125831     0.043772     0.002761     0.015940   \n",
       "std           3.483209     0.176734     0.111958     0.026297     0.039359   \n",
       "min        1997.000000     0.000000     0.000000     0.000000     0.000000   \n",
       "25%        2005.000000     0.030000     0.000000     0.000000     0.000000   \n",
       "50%        2008.000000     0.080000     0.010000     0.000000     0.010000   \n",
       "75%        2010.000000     0.150000     0.040000     0.000000     0.020000   \n",
       "max        2016.000000     3.450000     2.590000     0.860000     1.090000   \n",
       "\n",
       "       critic_score  \n",
       "count   1069.000000  \n",
       "mean      60.779233  \n",
       "std       11.188373  \n",
       "min       23.000000  \n",
       "25%       54.000000  \n",
       "50%       62.000000  \n",
       "75%       69.000000  \n",
       "max       90.000000  "
      ]
     },
     "execution_count": 12,
     "metadata": {},
     "output_type": "execute_result"
    }
   ],
   "source": [
    "#We notice a different order of magnitude for jp sales in tbd.\n",
    "#Tbd means that there is not enough user to rate for a game (less than 4).\n",
    "#We do the hypothesis that's some games are not popular in Japan and therefore have not many user ratings\n",
    "game_data.loc[game_data.user_score == 'tbd'].describe()"
   ]
  },
  {
   "cell_type": "code",
   "execution_count": 13,
   "metadata": {},
   "outputs": [
    {
     "data": {
      "text/html": [
       "<div>\n",
       "<style scoped>\n",
       "    .dataframe tbody tr th:only-of-type {\n",
       "        vertical-align: middle;\n",
       "    }\n",
       "\n",
       "    .dataframe tbody tr th {\n",
       "        vertical-align: top;\n",
       "    }\n",
       "\n",
       "    .dataframe thead th {\n",
       "        text-align: right;\n",
       "    }\n",
       "</style>\n",
       "<table border=\"1\" class=\"dataframe\">\n",
       "  <thead>\n",
       "    <tr style=\"text-align: right;\">\n",
       "      <th></th>\n",
       "      <th>year_of_release</th>\n",
       "      <th>na_sales</th>\n",
       "      <th>eu_sales</th>\n",
       "      <th>jp_sales</th>\n",
       "      <th>other_sales</th>\n",
       "      <th>critic_score</th>\n",
       "    </tr>\n",
       "  </thead>\n",
       "  <tbody>\n",
       "    <tr>\n",
       "      <td>count</td>\n",
       "      <td>6635.000000</td>\n",
       "      <td>6635.000000</td>\n",
       "      <td>6635.000000</td>\n",
       "      <td>6635.000000</td>\n",
       "      <td>6635.000000</td>\n",
       "      <td>37.000000</td>\n",
       "    </tr>\n",
       "    <tr>\n",
       "      <td>mean</td>\n",
       "      <td>2004.793519</td>\n",
       "      <td>0.185807</td>\n",
       "      <td>0.091842</td>\n",
       "      <td>0.126393</td>\n",
       "      <td>0.022538</td>\n",
       "      <td>67.648649</td>\n",
       "    </tr>\n",
       "    <tr>\n",
       "      <td>std</td>\n",
       "      <td>7.467638</td>\n",
       "      <td>0.804108</td>\n",
       "      <td>0.352162</td>\n",
       "      <td>0.386359</td>\n",
       "      <td>0.092934</td>\n",
       "      <td>14.723783</td>\n",
       "    </tr>\n",
       "    <tr>\n",
       "      <td>min</td>\n",
       "      <td>1980.000000</td>\n",
       "      <td>0.000000</td>\n",
       "      <td>0.000000</td>\n",
       "      <td>0.000000</td>\n",
       "      <td>0.000000</td>\n",
       "      <td>33.000000</td>\n",
       "    </tr>\n",
       "    <tr>\n",
       "      <td>25%</td>\n",
       "      <td>1999.000000</td>\n",
       "      <td>0.000000</td>\n",
       "      <td>0.000000</td>\n",
       "      <td>0.000000</td>\n",
       "      <td>0.000000</td>\n",
       "      <td>61.000000</td>\n",
       "    </tr>\n",
       "    <tr>\n",
       "      <td>50%</td>\n",
       "      <td>2007.000000</td>\n",
       "      <td>0.000000</td>\n",
       "      <td>0.000000</td>\n",
       "      <td>0.020000</td>\n",
       "      <td>0.000000</td>\n",
       "      <td>66.000000</td>\n",
       "    </tr>\n",
       "    <tr>\n",
       "      <td>75%</td>\n",
       "      <td>2010.000000</td>\n",
       "      <td>0.120000</td>\n",
       "      <td>0.050000</td>\n",
       "      <td>0.100000</td>\n",
       "      <td>0.010000</td>\n",
       "      <td>83.000000</td>\n",
       "    </tr>\n",
       "    <tr>\n",
       "      <td>max</td>\n",
       "      <td>2016.000000</td>\n",
       "      <td>29.080000</td>\n",
       "      <td>10.950000</td>\n",
       "      <td>10.220000</td>\n",
       "      <td>2.740000</td>\n",
       "      <td>89.000000</td>\n",
       "    </tr>\n",
       "  </tbody>\n",
       "</table>\n",
       "</div>"
      ],
      "text/plain": [
       "       year_of_release     na_sales     eu_sales     jp_sales  other_sales  \\\n",
       "count      6635.000000  6635.000000  6635.000000  6635.000000  6635.000000   \n",
       "mean       2004.793519     0.185807     0.091842     0.126393     0.022538   \n",
       "std           7.467638     0.804108     0.352162     0.386359     0.092934   \n",
       "min        1980.000000     0.000000     0.000000     0.000000     0.000000   \n",
       "25%        1999.000000     0.000000     0.000000     0.000000     0.000000   \n",
       "50%        2007.000000     0.000000     0.000000     0.020000     0.000000   \n",
       "75%        2010.000000     0.120000     0.050000     0.100000     0.010000   \n",
       "max        2016.000000    29.080000    10.950000    10.220000     2.740000   \n",
       "\n",
       "       critic_score  \n",
       "count     37.000000  \n",
       "mean      67.648649  \n",
       "std       14.723783  \n",
       "min       33.000000  \n",
       "25%       61.000000  \n",
       "50%       66.000000  \n",
       "75%       83.000000  \n",
       "max       89.000000  "
      ]
     },
     "execution_count": 13,
     "metadata": {},
     "output_type": "execute_result"
    }
   ],
   "source": [
    "game_data.loc[game_data.user_score.isna()].describe()"
   ]
  },
  {
   "cell_type": "code",
   "execution_count": 14,
   "metadata": {},
   "outputs": [],
   "source": [
    "#We consider tba value as NA value because it's equivalent to no score.\n",
    "game_data.user_score = game_data.user_score.replace('tbd', np.nan)\n",
    "#We change type from string to float for further analysis\n",
    "game_data.user_score = game_data.user_score.astype(float)"
   ]
  },
  {
   "cell_type": "code",
   "execution_count": 15,
   "metadata": {},
   "outputs": [
    {
     "name": "stdout",
     "output_type": "stream",
     "text": [
      "Number of missing user score: 9029\n",
      "Number of missing critic score: 8494\n"
     ]
    }
   ],
   "source": [
    "print('Number of missing user score: {}'.format(game_data.user_score.isna().sum()))\n",
    "print('Number of missing critic score: {}'.format(game_data.critic_score.isna().sum()))"
   ]
  },
  {
   "cell_type": "code",
   "execution_count": 16,
   "metadata": {},
   "outputs": [],
   "source": [
    "#We approximate missing user score by the user score from others platforms when availaible\n",
    "mean_user_score_by_name = game_data.groupby('name').user_score.transform('mean') \n",
    "game_data.user_score.fillna(mean_user_score_by_name, inplace = True)\n",
    "#the same is done for critic score\n",
    "mean_critic_score_by_name = game_data.groupby('name').critic_score.transform('mean') \n",
    "game_data.critic_score.fillna(mean_critic_score_by_name, inplace = True)"
   ]
  },
  {
   "cell_type": "code",
   "execution_count": 17,
   "metadata": {},
   "outputs": [
    {
     "name": "stdout",
     "output_type": "stream",
     "text": [
      "Number of missing user score after approximation: 7930\n",
      "Number of missing critic score after approximation: 7534\n"
     ]
    }
   ],
   "source": [
    "print('Number of missing user score after approximation: {}'.format(game_data.user_score.isna().sum()))\n",
    "print('Number of missing critic score after approximation: {}'.format(game_data.critic_score.isna().sum()))"
   ]
  },
  {
   "cell_type": "code",
   "execution_count": 18,
   "metadata": {},
   "outputs": [],
   "source": [
    "#add column sum of sales\n",
    "game_data[\"total_sales\"] = game_data.na_sales+ game_data.eu_sales + game_data.jp_sales + game_data.other_sales"
   ]
  },
  {
   "cell_type": "markdown",
   "metadata": {},
   "source": [
    "### Вывод"
   ]
  },
  {
   "cell_type": "markdown",
   "metadata": {},
   "source": [
    "1. В предыдущем шаге мы определили, что столбец year_of_release в датасете записан как тип данных float, что не является корректным. Чтобы перевести данные в целочисленный тип, мы отфильтровали данные с пропущенными значениями, так как они составляют около 1,5% от всего датасета, что не является критичным количеством и с помощью метода astype перевели данные в тип int.\n",
    "2. Аббревиатура tbd (to be determined) используется для обозначения неопределенного значения в данный момент времени, т.е в нашем контексте - это недостаточное количество отзывов об игре, мы можем предположить, что некоторые игры недостаточно популярные среди юзеров и не набрали достаточное количество отзывов, или некоторые игры вышли в релиз относительно недавно и по ним еще нет достаточной информации. Поэтому, чтобы поменять тип данных на float и в дальнейшем совершить необходимые математические операции для анализа данных, мы заменили значение tbd на эквивалентное None и поменяли тип данных object на float. Далее мы сгруппировали данные по названию игры, чтобы определить средний пользовательский рейтинг у тех игр, у которых не все пользовательские оценки были пропущены и заменили пропущенные значения на среднее значение там, где это было возможно.\n"
   ]
  },
  {
   "cell_type": "markdown",
   "metadata": {},
   "source": [
    "### Шаг 3. Проведите исследовательский анализ данных"
   ]
  },
  {
   "cell_type": "markdown",
   "metadata": {},
   "source": [
    "#### Шаг 3.1"
   ]
  },
  {
   "cell_type": "code",
   "execution_count": 19,
   "metadata": {},
   "outputs": [
    {
     "data": {
      "text/plain": [
       "Text(0, 0.5, 'number of games')"
      ]
     },
     "execution_count": 19,
     "metadata": {},
     "output_type": "execute_result"
    },
    {
     "data": {
      "image/png": "[encoded data removed]",
      "text/plain": [
       "<Figure size 792x360 with 1 Axes>"
      ]
     },
     "metadata": {
      "needs_background": "light"
     },
     "output_type": "display_data"
    }
   ],
   "source": [
    "#The game market was not developed before 90's: with few games \n",
    "#check number of games by years. \n",
    "game_by_year = game_data.pivot_table(index = 'year_of_release',values = 'name' , aggfunc = 'count')\n",
    "game_by_year.columns=[ 'number of games']\n",
    "game_by_year.plot.bar(figsize=(11,5))\n",
    "pl.title(\"Number of games by year\")\n",
    "pl.xlabel(\"year_of_release\")\n",
    "pl.ylabel(\"number of games\")"
   ]
  },
  {
   "cell_type": "markdown",
   "metadata": {},
   "source": [
    "До 2008 мы видим рост и развитие рынка видеоигр, пик развития индустрии приходится на 2008-2009, после пика мы видим спад, предположительно, на рынке после некоторого ажиотажа и перенасыщения, а также после конкуренции остались только наиболее привлекательные игры с точки зрения пользователей и окупаемости"
   ]
  },
  {
   "cell_type": "code",
   "execution_count": 20,
   "metadata": {},
   "outputs": [
    {
     "data": {
      "text/plain": [
       "platform\n",
       "PS2     1247.16\n",
       "X360     966.61\n",
       "PS3      935.19\n",
       "Wii      903.31\n",
       "DS       804.28\n",
       "PS       727.58\n",
       "PS4      314.14\n",
       "GBA      313.73\n",
       "PSP      293.57\n",
       "PC       258.86\n",
       "3DS      258.53\n",
       "XB       256.69\n",
       "GB       254.43\n",
       "NES      251.05\n",
       "N64      218.48\n",
       "SNES     200.04\n",
       "GC       198.66\n",
       "XOne     159.32\n",
       "2600      89.01\n",
       "WiiU      82.19\n",
       "PSV       53.81\n",
       "SAT       33.59\n",
       "GEN       30.77\n",
       "DC        15.95\n",
       "SCD        1.86\n",
       "NG         1.44\n",
       "WS         1.42\n",
       "TG16       0.16\n",
       "3DO        0.10\n",
       "GG         0.04\n",
       "PCFX       0.03\n",
       "Name: total_sales, dtype: float64"
      ]
     },
     "execution_count": 20,
     "metadata": {},
     "output_type": "execute_result"
    }
   ],
   "source": [
    "#Display platform by total sales in order to select the most significants\n",
    "sales_by_platform = game_data.groupby(['platform']).total_sales.sum().sort_values(ascending=False)\n",
    "sales_by_platform"
   ]
  },
  {
   "cell_type": "code",
   "execution_count": 21,
   "metadata": {},
   "outputs": [],
   "source": [
    "sales_by_platform_year = game_data.groupby(['platform','year_of_release']).total_sales.sum().sort_values(ascending=False)"
   ]
  },
  {
   "cell_type": "code",
   "execution_count": 22,
   "metadata": {},
   "outputs": [
    {
     "data": {
      "text/plain": [
       "Text(0, 0.5, 'total sales ($mm)')"
      ]
     },
     "execution_count": 22,
     "metadata": {},
     "output_type": "execute_result"
    },
    {
     "data": {
      "image/png": "[encoded data removed]",
      "text/plain": [
       "<Figure size 864x576 with 1 Axes>"
      ]
     },
     "metadata": {
      "needs_background": "light"
     },
     "output_type": "display_data"
    }
   ],
   "source": [
    "#We select the top 20 platform by total sales.\n",
    "top_20_platforms = sales_by_platform.head(20).reset_index().platform.to_list()\n",
    "sales_by_platform_year = sales_by_platform_year.reset_index().query('platform in @top_20_platforms')\n",
    "#show evolution by year of significant platforms\n",
    "sales_by_platform_year.pivot('year_of_release', 'platform', 'total_sales').plot(figsize=(12, 8))\n",
    "pl.title(\"Sales by top-20 platforms devided by year of release\")\n",
    "pl.xlabel(\"year of release\")\n",
    "pl.ylabel(\"total sales ($mm)\")"
   ]
  },
  {
   "cell_type": "markdown",
   "metadata": {},
   "source": [
    "Рассчитаем медианную продолжительность существования платформ"
   ]
  },
  {
   "cell_type": "code",
   "execution_count": 23,
   "metadata": {},
   "outputs": [
    {
     "name": "stdout",
     "output_type": "stream",
     "text": [
      "Median platform lifecycle: 8 years\n"
     ]
    }
   ],
   "source": [
    "platform_cycle = game_data.pivot_table(index = 'platform', values = 'year_of_release', aggfunc = ['min', 'max'])\n",
    "platform_cycle.columns = ['min_year','max_year']\n",
    "platform_cycle['platform_lifecycle']= platform_cycle.max_year - platform_cycle.min_year\n",
    "print(\"Median platform lifecycle: {:.0f} years\".format(platform_cycle.platform_lifecycle.median()))\n"
   ]
  },
  {
   "cell_type": "markdown",
   "metadata": {},
   "source": [
    "Определим актуальный период для анализа с 2014 года для будущего прогноза, чтобы иметь данные за конечный на данный момент интервал развития игровой индустрии по актуальными платформам и продажам "
   ]
  },
  {
   "cell_type": "code",
   "execution_count": 24,
   "metadata": {
    "scrolled": false
   },
   "outputs": [
    {
     "data": {
      "image/png": "[encoded data removed]",
      "text/plain": [
       "<Figure size 864x576 with 1 Axes>"
      ]
     },
     "metadata": {
      "needs_background": "light"
     },
     "output_type": "display_data"
    }
   ],
   "source": [
    "#The platform lifecycle varies between 5 to 8 years (new playstation appear every 6 years)\n",
    "#we take the actual period from 2014 because we can see last generation\n",
    "actual_sales_data = sales_by_platform_year.reset_index().query('year_of_release > 2013')\n",
    "#remove all platform which disapear during the generation 2016\n",
    "actual_sales_data = actual_sales_data.query('platform not in [\"PSP\"]')\n",
    "actual_sales_data.pivot('year_of_release', 'platform', 'total_sales').plot(figsize=(12, 8))\n",
    "pl.title(\"Sales by platforms devided by year of release (actual period)\")\n",
    "pl.xlabel(\"year of release (actual period)\")\n",
    "pl.ylabel(\"total sales ($mm)\")\n",
    "plt.show()\n",
    "#remove all platform which disapear during the generation 2016\n",
    "#actual_sales_data = actual_sales_data.query('platform not in [\"PSP\"]')\n",
    "# actual_sales_data.pivot('year_of_release', 'platform', 'total_sales').plot(figsize=(12, 8))\n",
    "# pl.title(\"Sales by platforms (lifetime untill 2014 or more) devided by year of release (actual period)\")\n",
    "# pl.xlabel(\"year of release (actual period)\")\n",
    "# pl.ylabel(\"total sales ($mm)\")\n"
   ]
  },
  {
   "cell_type": "code",
   "execution_count": 25,
   "metadata": {},
   "outputs": [
    {
     "data": {
      "text/html": [
       "<div>\n",
       "<style scoped>\n",
       "    .dataframe tbody tr th:only-of-type {\n",
       "        vertical-align: middle;\n",
       "    }\n",
       "\n",
       "    .dataframe tbody tr th {\n",
       "        vertical-align: top;\n",
       "    }\n",
       "\n",
       "    .dataframe thead th {\n",
       "        text-align: right;\n",
       "    }\n",
       "</style>\n",
       "<table border=\"1\" class=\"dataframe\">\n",
       "  <thead>\n",
       "    <tr style=\"text-align: right;\">\n",
       "      <th></th>\n",
       "      <th>sales_2014</th>\n",
       "      <th>sales_2015</th>\n",
       "      <th>growth_rate</th>\n",
       "    </tr>\n",
       "    <tr>\n",
       "      <th>platform</th>\n",
       "      <th></th>\n",
       "      <th></th>\n",
       "      <th></th>\n",
       "    </tr>\n",
       "  </thead>\n",
       "  <tbody>\n",
       "    <tr>\n",
       "      <td>3DS</td>\n",
       "      <td>43.76</td>\n",
       "      <td>27.78</td>\n",
       "      <td>0.634826</td>\n",
       "    </tr>\n",
       "    <tr>\n",
       "      <td>PC</td>\n",
       "      <td>13.63</td>\n",
       "      <td>8.52</td>\n",
       "      <td>0.625092</td>\n",
       "    </tr>\n",
       "    <tr>\n",
       "      <td>PS3</td>\n",
       "      <td>47.76</td>\n",
       "      <td>16.82</td>\n",
       "      <td>0.352178</td>\n",
       "    </tr>\n",
       "    <tr>\n",
       "      <td>PS4</td>\n",
       "      <td>100.00</td>\n",
       "      <td>118.90</td>\n",
       "      <td>1.189000</td>\n",
       "    </tr>\n",
       "    <tr>\n",
       "      <td>Wii</td>\n",
       "      <td>3.75</td>\n",
       "      <td>1.14</td>\n",
       "      <td>0.304000</td>\n",
       "    </tr>\n",
       "    <tr>\n",
       "      <td>WiiU</td>\n",
       "      <td>22.03</td>\n",
       "      <td>16.35</td>\n",
       "      <td>0.742170</td>\n",
       "    </tr>\n",
       "    <tr>\n",
       "      <td>X360</td>\n",
       "      <td>34.74</td>\n",
       "      <td>11.96</td>\n",
       "      <td>0.344272</td>\n",
       "    </tr>\n",
       "    <tr>\n",
       "      <td>XOne</td>\n",
       "      <td>54.07</td>\n",
       "      <td>60.14</td>\n",
       "      <td>1.112262</td>\n",
       "    </tr>\n",
       "  </tbody>\n",
       "</table>\n",
       "</div>"
      ],
      "text/plain": [
       "          sales_2014  sales_2015  growth_rate\n",
       "platform                                     \n",
       "3DS            43.76       27.78     0.634826\n",
       "PC             13.63        8.52     0.625092\n",
       "PS3            47.76       16.82     0.352178\n",
       "PS4           100.00      118.90     1.189000\n",
       "Wii             3.75        1.14     0.304000\n",
       "WiiU           22.03       16.35     0.742170\n",
       "X360           34.74       11.96     0.344272\n",
       "XOne           54.07       60.14     1.112262"
      ]
     },
     "execution_count": 25,
     "metadata": {},
     "output_type": "execute_result"
    }
   ],
   "source": [
    "#we calculate growth rate for the actual platforms, Xone and PS4 are rising, other platforms are declining.\n",
    "#last generation decrease (X360, PS3, Wii) and new generation increase (PS4, XOne)\n",
    "#some new platform not very succesfull (WiiU, 3DS, PSV)\n",
    "#living room console: X360, PS3, Wii, XOne, PS4, WiiU\n",
    "#portable console: 3DS, PSV\n",
    "actual_sales_data['sales_2015'] = actual_sales_data.query('year_of_release == 2015').total_sales\n",
    "actual_sales_data['sales_2014'] = actual_sales_data.query('year_of_release == 2014').total_sales\n",
    "grow_rate = actual_sales_data.groupby(['platform'])[['sales_2014', 'sales_2015']].sum()\n",
    "grow_rate['growth_rate'] = grow_rate.sales_2015 / grow_rate.sales_2014\n",
    "grow_rate"
   ]
  },
  {
   "cell_type": "markdown",
   "metadata": {},
   "source": [
    "Рассчитав темпы роста платформ: отношение продаж за 2015 год к 2014 (так как за 2016 год неполные данные, мы не брали этот период) - выявили наиболее перспективные: XOne и PS4"
   ]
  },
  {
   "cell_type": "markdown",
   "metadata": {},
   "source": [
    "### Вывод"
   ]
  },
  {
   "cell_type": "markdown",
   "metadata": {},
   "source": [
    "- Построив распределение релизов игр по годам, мы отметили, что до 90-x годов ежегодно выпускалось небольшое количество игр, так как гейм индустрия еще не была достаточно развита. Следовательно, данные за эти периоды не будут важны для последующего анализа и прогнозирования.\n",
    "- Далее методом groupby и sort мы сгруппировали данные по продажам по платформам и отсортировали их в порядке убывания, чтобы найти наиболее прибыльные платформы.\n",
    "- Мы построили график распределения по платформам с наибольшими суммарными продажами с разбивкой по годам. По данным на графике мы сделали вывод, что средний жизненный цикл платформы 5-7 лет (на примере playstation видно, что новый релиз консоли происходит каждые 6 лет).\n",
    "- Исходя из анализа предыдущих результатов, мы пришли к выводу, что актуальным периодом является период включающий один жизненный цикл платформы и его смену на новый, поэтому мы отфильтровали данные за период ранее 2005 года.\n",
    "- Также мы отфильтровали данные по тем платформам, которые закончили свой жизненный цикл до 2016 года, эти платформы не будут учтены в последующем анализе."
   ]
  },
  {
   "cell_type": "markdown",
   "metadata": {},
   "source": [
    "#### Шаг 3.2"
   ]
  },
  {
   "cell_type": "code",
   "execution_count": 26,
   "metadata": {},
   "outputs": [
    {
     "data": {
      "text/plain": [
       "<matplotlib.axes._subplots.AxesSubplot at 0x7ff90bbed150>"
      ]
     },
     "execution_count": 26,
     "metadata": {},
     "output_type": "execute_result"
    },
    {
     "data": {
      "image/png": "[encoded data removed]",
      "text/plain": [
       "<Figure size 864x576 with 1 Axes>"
      ]
     },
     "metadata": {
      "needs_background": "light"
     },
     "output_type": "display_data"
    }
   ],
   "source": [
    "# built boxplot to check total sales distribution by platform\n",
    "actual_sales_data.pivot(columns='platform', values='total_sales').boxplot(figsize=(12, 8))\n"
   ]
  },
  {
   "cell_type": "markdown",
   "metadata": {},
   "source": [
    "Построив диаграммы размаха по продажам можем сделать следующие выводы:\n",
    "    - Wii: расстояние между первым квартилем и медианой заметно меньше, чем расстояние между медианой и третьим квартилем,график распределен между 0 и 4, что говорит о низких продажах на данной платформе\n",
    "    - X360: расстояние между первым квартилем и медианой больше, чем расстояние между медианой и третьим квартилем,следовательно датасет скошен влево, можем предположить, что на этой платформе есть игры, которые приносят дохода меньше медианной суммы\n",
    "    - PS4: расстояние между первым квартилем и медианой равно расстоянию между медианой и третьим квартилем, следовательно датасет распределен нормально\n",
    "    - XOne расстояние между первым квартилем и медианой равно расстоянию между медианой и третьим квартилем, следовательно датасет распределен нормально\n",
    "    - у PC мы тоже наблюдаем почти симметричное распределение\n",
    "    - WiiU видим, что медиана смещена ближе к первому квартилю, следовательно датасет с отрицательной скошенностью, также мы наблюдаем выбросы ниже первого квартиля, это может свидетельствовать о том, что игры на данной платформе имели низкие продажи\n",
    "    \n",
    "Наибольшие значения по продажам наблюдаются у платформ нового поколения XOne и PS4"
   ]
  },
  {
   "cell_type": "code",
   "execution_count": 27,
   "metadata": {},
   "outputs": [
    {
     "data": {
      "image/png": "[encoded data removed]",
      "text/plain": [
       "<Figure size 432x288 with 1 Axes>"
      ]
     },
     "metadata": {
      "needs_background": "light"
     },
     "output_type": "display_data"
    },
    {
     "data": {
      "text/plain": [
       "Text(0, 0.5, 'total sales ($mm)')"
      ]
     },
     "execution_count": 27,
     "metadata": {},
     "output_type": "execute_result"
    },
    {
     "data": {
      "image/png": "[encoded data removed]",
      "text/plain": [
       "<Figure size 432x288 with 1 Axes>"
      ]
     },
     "metadata": {
      "needs_background": "light"
     },
     "output_type": "display_data"
    }
   ],
   "source": [
    "#did scatter plot between total sales and critic/users score to see correlation\n",
    "all_actual_data = game_data.query('year_of_release > 2013')\n",
    "all_actual_data.query('platform ==\"PS4\"').groupby(['platform']).plot(x='critic_score', y='total_sales', kind='scatter', alpha=0.5)\n",
    "pl.title(\"Scatterplot between total sales and critic score by PS4\")\n",
    "pl.xlabel(\"critic score\")\n",
    "pl.ylabel(\"total sales ($mm)\")\n",
    "plt.show()\n",
    "all_actual_data.query('platform ==\"PS4\"').groupby(['platform']).plot(x='user_score', y='total_sales', kind='scatter', alpha=0.5)\n",
    "pl.title(\"Scatterplot between total sales and user score by PS4\")\n",
    "pl.xlabel(\"user score\")\n",
    "pl.ylabel(\"total sales ($mm)\")"
   ]
  },
  {
   "cell_type": "code",
   "execution_count": 28,
   "metadata": {},
   "outputs": [
    {
     "name": "stdout",
     "output_type": "stream",
     "text": [
      "Correlation table between score and sales by platform PS4\n"
     ]
    },
    {
     "data": {
      "text/html": [
       "<div>\n",
       "<style scoped>\n",
       "    .dataframe tbody tr th:only-of-type {\n",
       "        vertical-align: middle;\n",
       "    }\n",
       "\n",
       "    .dataframe tbody tr th {\n",
       "        vertical-align: top;\n",
       "    }\n",
       "\n",
       "    .dataframe thead th {\n",
       "        text-align: right;\n",
       "    }\n",
       "</style>\n",
       "<table border=\"1\" class=\"dataframe\">\n",
       "  <thead>\n",
       "    <tr style=\"text-align: right;\">\n",
       "      <th></th>\n",
       "      <th>critic_score</th>\n",
       "      <th>user_score</th>\n",
       "      <th>total_sales</th>\n",
       "    </tr>\n",
       "  </thead>\n",
       "  <tbody>\n",
       "    <tr>\n",
       "      <td>critic_score</td>\n",
       "      <td>1.000000</td>\n",
       "      <td>0.551348</td>\n",
       "      <td>0.388726</td>\n",
       "    </tr>\n",
       "    <tr>\n",
       "      <td>user_score</td>\n",
       "      <td>0.551348</td>\n",
       "      <td>1.000000</td>\n",
       "      <td>-0.025916</td>\n",
       "    </tr>\n",
       "    <tr>\n",
       "      <td>total_sales</td>\n",
       "      <td>0.388726</td>\n",
       "      <td>-0.025916</td>\n",
       "      <td>1.000000</td>\n",
       "    </tr>\n",
       "  </tbody>\n",
       "</table>\n",
       "</div>"
      ],
      "text/plain": [
       "              critic_score  user_score  total_sales\n",
       "critic_score      1.000000    0.551348     0.388726\n",
       "user_score        0.551348    1.000000    -0.025916\n",
       "total_sales       0.388726   -0.025916     1.000000"
      ]
     },
     "execution_count": 28,
     "metadata": {},
     "output_type": "execute_result"
    }
   ],
   "source": [
    "#between total_sales and critic_score we can see positive correlation and no correlation between user score and total sales\n",
    "print(\"Correlation table between score and sales by platform PS4\")\n",
    "all_actual_data.query('platform ==\"PS4\"')[['critic_score','user_score','total_sales']].corr()\n"
   ]
  },
  {
   "cell_type": "code",
   "execution_count": 29,
   "metadata": {},
   "outputs": [
    {
     "name": "stdout",
     "output_type": "stream",
     "text": [
      "\n",
      "Correlation table between score and sales by platform PS4\n"
     ]
    },
    {
     "data": {
      "text/html": [
       "<div>\n",
       "<style scoped>\n",
       "    .dataframe tbody tr th:only-of-type {\n",
       "        vertical-align: middle;\n",
       "    }\n",
       "\n",
       "    .dataframe tbody tr th {\n",
       "        vertical-align: top;\n",
       "    }\n",
       "\n",
       "    .dataframe thead th {\n",
       "        text-align: right;\n",
       "    }\n",
       "</style>\n",
       "<table border=\"1\" class=\"dataframe\">\n",
       "  <thead>\n",
       "    <tr style=\"text-align: right;\">\n",
       "      <th></th>\n",
       "      <th>critic_score</th>\n",
       "      <th>user_score</th>\n",
       "      <th>total_sales</th>\n",
       "    </tr>\n",
       "  </thead>\n",
       "  <tbody>\n",
       "    <tr>\n",
       "      <td>critic_score</td>\n",
       "      <td>1.000000</td>\n",
       "      <td>0.551348</td>\n",
       "      <td>0.388726</td>\n",
       "    </tr>\n",
       "    <tr>\n",
       "      <td>user_score</td>\n",
       "      <td>0.551348</td>\n",
       "      <td>1.000000</td>\n",
       "      <td>-0.025916</td>\n",
       "    </tr>\n",
       "    <tr>\n",
       "      <td>total_sales</td>\n",
       "      <td>0.388726</td>\n",
       "      <td>-0.025916</td>\n",
       "      <td>1.000000</td>\n",
       "    </tr>\n",
       "  </tbody>\n",
       "</table>\n",
       "</div>"
      ],
      "text/plain": [
       "              critic_score  user_score  total_sales\n",
       "critic_score      1.000000    0.551348     0.388726\n",
       "user_score        0.551348    1.000000    -0.025916\n",
       "total_sales       0.388726   -0.025916     1.000000"
      ]
     },
     "metadata": {},
     "output_type": "display_data"
    },
    {
     "name": "stdout",
     "output_type": "stream",
     "text": [
      "\n",
      "Correlation table between score and sales by platform 3DS\n"
     ]
    },
    {
     "data": {
      "text/html": [
       "<div>\n",
       "<style scoped>\n",
       "    .dataframe tbody tr th:only-of-type {\n",
       "        vertical-align: middle;\n",
       "    }\n",
       "\n",
       "    .dataframe tbody tr th {\n",
       "        vertical-align: top;\n",
       "    }\n",
       "\n",
       "    .dataframe thead th {\n",
       "        text-align: right;\n",
       "    }\n",
       "</style>\n",
       "<table border=\"1\" class=\"dataframe\">\n",
       "  <thead>\n",
       "    <tr style=\"text-align: right;\">\n",
       "      <th></th>\n",
       "      <th>critic_score</th>\n",
       "      <th>user_score</th>\n",
       "      <th>total_sales</th>\n",
       "    </tr>\n",
       "  </thead>\n",
       "  <tbody>\n",
       "    <tr>\n",
       "      <td>critic_score</td>\n",
       "      <td>1.000000</td>\n",
       "      <td>0.589889</td>\n",
       "      <td>0.279768</td>\n",
       "    </tr>\n",
       "    <tr>\n",
       "      <td>user_score</td>\n",
       "      <td>0.589889</td>\n",
       "      <td>1.000000</td>\n",
       "      <td>0.244442</td>\n",
       "    </tr>\n",
       "    <tr>\n",
       "      <td>total_sales</td>\n",
       "      <td>0.279768</td>\n",
       "      <td>0.244442</td>\n",
       "      <td>1.000000</td>\n",
       "    </tr>\n",
       "  </tbody>\n",
       "</table>\n",
       "</div>"
      ],
      "text/plain": [
       "              critic_score  user_score  total_sales\n",
       "critic_score      1.000000    0.589889     0.279768\n",
       "user_score        0.589889    1.000000     0.244442\n",
       "total_sales       0.279768    0.244442     1.000000"
      ]
     },
     "metadata": {},
     "output_type": "display_data"
    },
    {
     "name": "stdout",
     "output_type": "stream",
     "text": [
      "\n",
      "Correlation table between score and sales by platform XOne\n"
     ]
    },
    {
     "data": {
      "text/html": [
       "<div>\n",
       "<style scoped>\n",
       "    .dataframe tbody tr th:only-of-type {\n",
       "        vertical-align: middle;\n",
       "    }\n",
       "\n",
       "    .dataframe tbody tr th {\n",
       "        vertical-align: top;\n",
       "    }\n",
       "\n",
       "    .dataframe thead th {\n",
       "        text-align: right;\n",
       "    }\n",
       "</style>\n",
       "<table border=\"1\" class=\"dataframe\">\n",
       "  <thead>\n",
       "    <tr style=\"text-align: right;\">\n",
       "      <th></th>\n",
       "      <th>critic_score</th>\n",
       "      <th>user_score</th>\n",
       "      <th>total_sales</th>\n",
       "    </tr>\n",
       "  </thead>\n",
       "  <tbody>\n",
       "    <tr>\n",
       "      <td>critic_score</td>\n",
       "      <td>1.000000</td>\n",
       "      <td>0.448177</td>\n",
       "      <td>0.379347</td>\n",
       "    </tr>\n",
       "    <tr>\n",
       "      <td>user_score</td>\n",
       "      <td>0.448177</td>\n",
       "      <td>1.000000</td>\n",
       "      <td>-0.092406</td>\n",
       "    </tr>\n",
       "    <tr>\n",
       "      <td>total_sales</td>\n",
       "      <td>0.379347</td>\n",
       "      <td>-0.092406</td>\n",
       "      <td>1.000000</td>\n",
       "    </tr>\n",
       "  </tbody>\n",
       "</table>\n",
       "</div>"
      ],
      "text/plain": [
       "              critic_score  user_score  total_sales\n",
       "critic_score      1.000000    0.448177     0.379347\n",
       "user_score        0.448177    1.000000    -0.092406\n",
       "total_sales       0.379347   -0.092406     1.000000"
      ]
     },
     "metadata": {},
     "output_type": "display_data"
    },
    {
     "name": "stdout",
     "output_type": "stream",
     "text": [
      "\n",
      "Correlation table between score and sales by platform WiiU\n"
     ]
    },
    {
     "data": {
      "text/html": [
       "<div>\n",
       "<style scoped>\n",
       "    .dataframe tbody tr th:only-of-type {\n",
       "        vertical-align: middle;\n",
       "    }\n",
       "\n",
       "    .dataframe tbody tr th {\n",
       "        vertical-align: top;\n",
       "    }\n",
       "\n",
       "    .dataframe thead th {\n",
       "        text-align: right;\n",
       "    }\n",
       "</style>\n",
       "<table border=\"1\" class=\"dataframe\">\n",
       "  <thead>\n",
       "    <tr style=\"text-align: right;\">\n",
       "      <th></th>\n",
       "      <th>critic_score</th>\n",
       "      <th>user_score</th>\n",
       "      <th>total_sales</th>\n",
       "    </tr>\n",
       "  </thead>\n",
       "  <tbody>\n",
       "    <tr>\n",
       "      <td>critic_score</td>\n",
       "      <td>1.000000</td>\n",
       "      <td>0.714357</td>\n",
       "      <td>0.368771</td>\n",
       "    </tr>\n",
       "    <tr>\n",
       "      <td>user_score</td>\n",
       "      <td>0.714357</td>\n",
       "      <td>1.000000</td>\n",
       "      <td>0.384179</td>\n",
       "    </tr>\n",
       "    <tr>\n",
       "      <td>total_sales</td>\n",
       "      <td>0.368771</td>\n",
       "      <td>0.384179</td>\n",
       "      <td>1.000000</td>\n",
       "    </tr>\n",
       "  </tbody>\n",
       "</table>\n",
       "</div>"
      ],
      "text/plain": [
       "              critic_score  user_score  total_sales\n",
       "critic_score      1.000000    0.714357     0.368771\n",
       "user_score        0.714357    1.000000     0.384179\n",
       "total_sales       0.368771    0.384179     1.000000"
      ]
     },
     "metadata": {},
     "output_type": "display_data"
    },
    {
     "name": "stdout",
     "output_type": "stream",
     "text": [
      "\n",
      "Correlation table between score and sales by platform PS3\n"
     ]
    },
    {
     "data": {
      "text/html": [
       "<div>\n",
       "<style scoped>\n",
       "    .dataframe tbody tr th:only-of-type {\n",
       "        vertical-align: middle;\n",
       "    }\n",
       "\n",
       "    .dataframe tbody tr th {\n",
       "        vertical-align: top;\n",
       "    }\n",
       "\n",
       "    .dataframe thead th {\n",
       "        text-align: right;\n",
       "    }\n",
       "</style>\n",
       "<table border=\"1\" class=\"dataframe\">\n",
       "  <thead>\n",
       "    <tr style=\"text-align: right;\">\n",
       "      <th></th>\n",
       "      <th>critic_score</th>\n",
       "      <th>user_score</th>\n",
       "      <th>total_sales</th>\n",
       "    </tr>\n",
       "  </thead>\n",
       "  <tbody>\n",
       "    <tr>\n",
       "      <td>critic_score</td>\n",
       "      <td>1.000000</td>\n",
       "      <td>0.298102</td>\n",
       "      <td>0.317972</td>\n",
       "    </tr>\n",
       "    <tr>\n",
       "      <td>user_score</td>\n",
       "      <td>0.298102</td>\n",
       "      <td>1.000000</td>\n",
       "      <td>-0.148407</td>\n",
       "    </tr>\n",
       "    <tr>\n",
       "      <td>total_sales</td>\n",
       "      <td>0.317972</td>\n",
       "      <td>-0.148407</td>\n",
       "      <td>1.000000</td>\n",
       "    </tr>\n",
       "  </tbody>\n",
       "</table>\n",
       "</div>"
      ],
      "text/plain": [
       "              critic_score  user_score  total_sales\n",
       "critic_score      1.000000    0.298102     0.317972\n",
       "user_score        0.298102    1.000000    -0.148407\n",
       "total_sales       0.317972   -0.148407     1.000000"
      ]
     },
     "metadata": {},
     "output_type": "display_data"
    },
    {
     "name": "stdout",
     "output_type": "stream",
     "text": [
      "\n",
      "Correlation table between score and sales by platform X360\n"
     ]
    },
    {
     "data": {
      "text/html": [
       "<div>\n",
       "<style scoped>\n",
       "    .dataframe tbody tr th:only-of-type {\n",
       "        vertical-align: middle;\n",
       "    }\n",
       "\n",
       "    .dataframe tbody tr th {\n",
       "        vertical-align: top;\n",
       "    }\n",
       "\n",
       "    .dataframe thead th {\n",
       "        text-align: right;\n",
       "    }\n",
       "</style>\n",
       "<table border=\"1\" class=\"dataframe\">\n",
       "  <thead>\n",
       "    <tr style=\"text-align: right;\">\n",
       "      <th></th>\n",
       "      <th>critic_score</th>\n",
       "      <th>user_score</th>\n",
       "      <th>total_sales</th>\n",
       "    </tr>\n",
       "  </thead>\n",
       "  <tbody>\n",
       "    <tr>\n",
       "      <td>critic_score</td>\n",
       "      <td>1.000000</td>\n",
       "      <td>0.164429</td>\n",
       "      <td>0.340764</td>\n",
       "    </tr>\n",
       "    <tr>\n",
       "      <td>user_score</td>\n",
       "      <td>0.164429</td>\n",
       "      <td>1.000000</td>\n",
       "      <td>-0.132285</td>\n",
       "    </tr>\n",
       "    <tr>\n",
       "      <td>total_sales</td>\n",
       "      <td>0.340764</td>\n",
       "      <td>-0.132285</td>\n",
       "      <td>1.000000</td>\n",
       "    </tr>\n",
       "  </tbody>\n",
       "</table>\n",
       "</div>"
      ],
      "text/plain": [
       "              critic_score  user_score  total_sales\n",
       "critic_score      1.000000    0.164429     0.340764\n",
       "user_score        0.164429    1.000000    -0.132285\n",
       "total_sales       0.340764   -0.132285     1.000000"
      ]
     },
     "metadata": {},
     "output_type": "display_data"
    },
    {
     "name": "stdout",
     "output_type": "stream",
     "text": [
      "\n",
      "Correlation table between score and sales by platform PC\n"
     ]
    },
    {
     "data": {
      "text/html": [
       "<div>\n",
       "<style scoped>\n",
       "    .dataframe tbody tr th:only-of-type {\n",
       "        vertical-align: middle;\n",
       "    }\n",
       "\n",
       "    .dataframe tbody tr th {\n",
       "        vertical-align: top;\n",
       "    }\n",
       "\n",
       "    .dataframe thead th {\n",
       "        text-align: right;\n",
       "    }\n",
       "</style>\n",
       "<table border=\"1\" class=\"dataframe\">\n",
       "  <thead>\n",
       "    <tr style=\"text-align: right;\">\n",
       "      <th></th>\n",
       "      <th>critic_score</th>\n",
       "      <th>user_score</th>\n",
       "      <th>total_sales</th>\n",
       "    </tr>\n",
       "  </thead>\n",
       "  <tbody>\n",
       "    <tr>\n",
       "      <td>critic_score</td>\n",
       "      <td>1.000000</td>\n",
       "      <td>0.517195</td>\n",
       "      <td>0.179161</td>\n",
       "    </tr>\n",
       "    <tr>\n",
       "      <td>user_score</td>\n",
       "      <td>0.517195</td>\n",
       "      <td>1.000000</td>\n",
       "      <td>-0.066875</td>\n",
       "    </tr>\n",
       "    <tr>\n",
       "      <td>total_sales</td>\n",
       "      <td>0.179161</td>\n",
       "      <td>-0.066875</td>\n",
       "      <td>1.000000</td>\n",
       "    </tr>\n",
       "  </tbody>\n",
       "</table>\n",
       "</div>"
      ],
      "text/plain": [
       "              critic_score  user_score  total_sales\n",
       "critic_score      1.000000    0.517195     0.179161\n",
       "user_score        0.517195    1.000000    -0.066875\n",
       "total_sales       0.179161   -0.066875     1.000000"
      ]
     },
     "metadata": {},
     "output_type": "display_data"
    },
    {
     "name": "stdout",
     "output_type": "stream",
     "text": [
      "\n",
      "Correlation table between score and sales by platform Wii\n"
     ]
    },
    {
     "data": {
      "text/html": [
       "<div>\n",
       "<style scoped>\n",
       "    .dataframe tbody tr th:only-of-type {\n",
       "        vertical-align: middle;\n",
       "    }\n",
       "\n",
       "    .dataframe tbody tr th {\n",
       "        vertical-align: top;\n",
       "    }\n",
       "\n",
       "    .dataframe thead th {\n",
       "        text-align: right;\n",
       "    }\n",
       "</style>\n",
       "<table border=\"1\" class=\"dataframe\">\n",
       "  <thead>\n",
       "    <tr style=\"text-align: right;\">\n",
       "      <th></th>\n",
       "      <th>critic_score</th>\n",
       "      <th>user_score</th>\n",
       "      <th>total_sales</th>\n",
       "    </tr>\n",
       "  </thead>\n",
       "  <tbody>\n",
       "    <tr>\n",
       "      <td>critic_score</td>\n",
       "      <td>1.000000</td>\n",
       "      <td>0.255670</td>\n",
       "      <td>0.330541</td>\n",
       "    </tr>\n",
       "    <tr>\n",
       "      <td>user_score</td>\n",
       "      <td>0.255670</td>\n",
       "      <td>1.000000</td>\n",
       "      <td>0.628691</td>\n",
       "    </tr>\n",
       "    <tr>\n",
       "      <td>total_sales</td>\n",
       "      <td>0.330541</td>\n",
       "      <td>0.628691</td>\n",
       "      <td>1.000000</td>\n",
       "    </tr>\n",
       "  </tbody>\n",
       "</table>\n",
       "</div>"
      ],
      "text/plain": [
       "              critic_score  user_score  total_sales\n",
       "critic_score      1.000000    0.255670     0.330541\n",
       "user_score        0.255670    1.000000     0.628691\n",
       "total_sales       0.330541    0.628691     1.000000"
      ]
     },
     "metadata": {},
     "output_type": "display_data"
    },
    {
     "name": "stdout",
     "output_type": "stream",
     "text": [
      "\n",
      "Correlation table between score and sales by platform PSV\n"
     ]
    },
    {
     "data": {
      "text/html": [
       "<div>\n",
       "<style scoped>\n",
       "    .dataframe tbody tr th:only-of-type {\n",
       "        vertical-align: middle;\n",
       "    }\n",
       "\n",
       "    .dataframe tbody tr th {\n",
       "        vertical-align: top;\n",
       "    }\n",
       "\n",
       "    .dataframe thead th {\n",
       "        text-align: right;\n",
       "    }\n",
       "</style>\n",
       "<table border=\"1\" class=\"dataframe\">\n",
       "  <thead>\n",
       "    <tr style=\"text-align: right;\">\n",
       "      <th></th>\n",
       "      <th>critic_score</th>\n",
       "      <th>user_score</th>\n",
       "      <th>total_sales</th>\n",
       "    </tr>\n",
       "  </thead>\n",
       "  <tbody>\n",
       "    <tr>\n",
       "      <td>critic_score</td>\n",
       "      <td>1.000000</td>\n",
       "      <td>0.494708</td>\n",
       "      <td>0.152892</td>\n",
       "    </tr>\n",
       "    <tr>\n",
       "      <td>user_score</td>\n",
       "      <td>0.494708</td>\n",
       "      <td>1.000000</td>\n",
       "      <td>-0.056210</td>\n",
       "    </tr>\n",
       "    <tr>\n",
       "      <td>total_sales</td>\n",
       "      <td>0.152892</td>\n",
       "      <td>-0.056210</td>\n",
       "      <td>1.000000</td>\n",
       "    </tr>\n",
       "  </tbody>\n",
       "</table>\n",
       "</div>"
      ],
      "text/plain": [
       "              critic_score  user_score  total_sales\n",
       "critic_score      1.000000    0.494708     0.152892\n",
       "user_score        0.494708    1.000000    -0.056210\n",
       "total_sales       0.152892   -0.056210     1.000000"
      ]
     },
     "metadata": {},
     "output_type": "display_data"
    }
   ],
   "source": [
    "#we select other popular platfom from the actual periode to compare with PS4.\n",
    "#we can see the correlation between critic score and sales is always higher than user score and sales unless for WiiU.\n",
    "top_platforms = all_actual_data.query('platform not in [\"PSP\"]')\n",
    "for item in top_platforms.platform.unique():\n",
    "    print()\n",
    "    print(\"Correlation table between score and sales by platform {}\".format(item))\n",
    "    display(top_platforms.query('platform == @item')[['critic_score','user_score','total_sales']].corr())\n",
    "    "
   ]
  },
  {
   "cell_type": "code",
   "execution_count": 30,
   "metadata": {},
   "outputs": [
    {
     "data": {
      "image/png": "[encoded data removed]",
      "text/plain": [
       "<Figure size 432x288 with 1 Axes>"
      ]
     },
     "metadata": {
      "needs_background": "light"
     },
     "output_type": "display_data"
    },
    {
     "data": {
      "text/plain": [
       "Text(0, 0.5, 'total sales ($mm)')"
      ]
     },
     "execution_count": 30,
     "metadata": {},
     "output_type": "execute_result"
    },
    {
     "data": {
      "image/png": "[encoded data removed]",
      "text/plain": [
       "<Figure size 432x288 with 1 Axes>"
      ]
     },
     "metadata": {
      "needs_background": "light"
     },
     "output_type": "display_data"
    }
   ],
   "source": [
    "#group by genre \n",
    "#calculate correlation rate \n",
    "genre_data= all_actual_data.pivot_table(index= 'genre', values = ['total_sales','name'],aggfunc = {'total_sales':'sum','name':'count'})\n",
    "genre_data['convertional_rate'] = genre_data.total_sales/genre_data.name\n",
    "genre_data = genre_data.sort_values(by ='convertional_rate',ascending=False)\n",
    "genre_data.name.plot.bar()\n",
    "pl.title(\"Number of games by genre \")\n",
    "pl.xlabel(\"genre name\")\n",
    "pl.ylabel(\"number of games\")\n",
    "plt.show()\n",
    "genre_data.convertional_rate.plot.bar()\n",
    "pl.title(\"Total sales by genre \")\n",
    "pl.xlabel(\"genre name\")\n",
    "pl.ylabel(\"total sales ($mm)\")"
   ]
  },
  {
   "cell_type": "markdown",
   "metadata": {},
   "source": [
    "### Вывод"
   ]
  },
  {
   "cell_type": "markdown",
   "metadata": {},
   "source": [
    "- Выбрав последние актуальные данные за 2014 и 2015 год (прим. данные за 2016 год могут быть неполными),мы расчитали ratio по платформам и выявили лидирующие по продажам платформы: PS4, XOne. Эти  2 платформы показывают рост в 2015 году на 18% и 11% соответственно по сравнению с 2014 годом. Данные платформы являются платформами нового поколения пришедшими на смену PS3 и X360.\n",
    "- Построив диаграммы размаха по продажам, мы сделали следующие выводы: данные по продажам по платформам PS4 и XOne нормально распределены, также распределение почти симметрично по данным платформы PC. Данные на диаграме размаха по платформе Wii распределены с положительной скошенностью,следовательно есть продажи игр на этой платформе выше медианных. WiiU является платформой нового поколения(предшественник платформа Wii), однако данные на диаграме размаха свидетельствуют о том, что продажи на этой платформе ниже медианных.\n",
    "- Построив диаграммы рассеяния и таблицу корреляции между продажами и отзывами пользователей и критиков по популярной платформе PS4, мы отметили прямую корреляцию между продажами и отзывами критиков и не обнаружили корреляции между отзывами пользователей и продажами.\n",
    "- Аналогичным образом мы соотнесли продажи и отзывы по остальным платформам и выявили схожую ситуацию, исключение составила прямая корреляция между отзывами пользователей и продажами по платформе WiiU, мы предположили, что это корреляция обусловлена низкими отзывами и низкими продажами по платформе.\n",
    "- Следующим пунктом мы построили график распределения игр по жанрам, наибольшее количество игр было выпущено в жанре Action. Лидерами по продажам являются игры в жанрах Shooter, Platform и Sports. Наиболее низкие продажи у жанра Adventure, причиной может быть устаревшая модель игры Point & Click"
   ]
  },
  {
   "cell_type": "markdown",
   "metadata": {},
   "source": [
    "### Шаг 4. Составьте портрет пользователя каждого региона"
   ]
  },
  {
   "cell_type": "markdown",
   "metadata": {},
   "source": [
    "Построим таблицы с разбивкой по регионам. Сгруппируем данные по платформе и по продажам(в данном регионе), в отдельном столбце рассчитаем обьем продаж по платформе относительно всех продаж по региону. Визуализируем полученные данные (доли продаж по каждой платформе в регионе) с помощью графиков pie chart"
   ]
  },
  {
   "cell_type": "code",
   "execution_count": 31,
   "metadata": {},
   "outputs": [
    {
     "name": "stdout",
     "output_type": "stream",
     "text": [
      "\n",
      "Top-5 best eu_sales platforms\n"
     ]
    },
    {
     "data": {
      "text/html": [
       "<div>\n",
       "<style scoped>\n",
       "    .dataframe tbody tr th:only-of-type {\n",
       "        vertical-align: middle;\n",
       "    }\n",
       "\n",
       "    .dataframe tbody tr th {\n",
       "        vertical-align: top;\n",
       "    }\n",
       "\n",
       "    .dataframe thead th {\n",
       "        text-align: right;\n",
       "    }\n",
       "</style>\n",
       "<table border=\"1\" class=\"dataframe\">\n",
       "  <thead>\n",
       "    <tr style=\"text-align: right;\">\n",
       "      <th></th>\n",
       "      <th>eu_sales</th>\n",
       "      <th>percentage</th>\n",
       "    </tr>\n",
       "    <tr>\n",
       "      <th>platform</th>\n",
       "      <th></th>\n",
       "      <th></th>\n",
       "    </tr>\n",
       "  </thead>\n",
       "  <tbody>\n",
       "    <tr>\n",
       "      <td>PS4</td>\n",
       "      <td>130.04</td>\n",
       "      <td>0.479976</td>\n",
       "    </tr>\n",
       "    <tr>\n",
       "      <td>XOne</td>\n",
       "      <td>46.25</td>\n",
       "      <td>0.170708</td>\n",
       "    </tr>\n",
       "    <tr>\n",
       "      <td>PS3</td>\n",
       "      <td>25.54</td>\n",
       "      <td>0.094268</td>\n",
       "    </tr>\n",
       "    <tr>\n",
       "      <td>PC</td>\n",
       "      <td>18.22</td>\n",
       "      <td>0.067250</td>\n",
       "    </tr>\n",
       "    <tr>\n",
       "      <td>3DS</td>\n",
       "      <td>16.12</td>\n",
       "      <td>0.059499</td>\n",
       "    </tr>\n",
       "    <tr>\n",
       "      <td>Other</td>\n",
       "      <td>34.76</td>\n",
       "      <td>0.128299</td>\n",
       "    </tr>\n",
       "  </tbody>\n",
       "</table>\n",
       "</div>"
      ],
      "text/plain": [
       "          eu_sales  percentage\n",
       "platform                      \n",
       "PS4         130.04    0.479976\n",
       "XOne         46.25    0.170708\n",
       "PS3          25.54    0.094268\n",
       "PC           18.22    0.067250\n",
       "3DS          16.12    0.059499\n",
       "Other        34.76    0.128299"
      ]
     },
     "metadata": {},
     "output_type": "display_data"
    },
    {
     "data": {
      "image/png": "[encoded data removed]",
      "text/plain": [
       "<Figure size 360x360 with 1 Axes>"
      ]
     },
     "metadata": {},
     "output_type": "display_data"
    },
    {
     "name": "stdout",
     "output_type": "stream",
     "text": [
      "\n",
      "Top-5 best na_sales platforms\n"
     ]
    },
    {
     "data": {
      "text/html": [
       "<div>\n",
       "<style scoped>\n",
       "    .dataframe tbody tr th:only-of-type {\n",
       "        vertical-align: middle;\n",
       "    }\n",
       "\n",
       "    .dataframe tbody tr th {\n",
       "        vertical-align: top;\n",
       "    }\n",
       "\n",
       "    .dataframe thead th {\n",
       "        text-align: right;\n",
       "    }\n",
       "</style>\n",
       "<table border=\"1\" class=\"dataframe\">\n",
       "  <thead>\n",
       "    <tr style=\"text-align: right;\">\n",
       "      <th></th>\n",
       "      <th>na_sales</th>\n",
       "      <th>percentage</th>\n",
       "    </tr>\n",
       "    <tr>\n",
       "      <th>platform</th>\n",
       "      <th></th>\n",
       "      <th></th>\n",
       "    </tr>\n",
       "  </thead>\n",
       "  <tbody>\n",
       "    <tr>\n",
       "      <td>PS4</td>\n",
       "      <td>98.61</td>\n",
       "      <td>0.347072</td>\n",
       "    </tr>\n",
       "    <tr>\n",
       "      <td>XOne</td>\n",
       "      <td>81.27</td>\n",
       "      <td>0.286041</td>\n",
       "    </tr>\n",
       "    <tr>\n",
       "      <td>X360</td>\n",
       "      <td>28.30</td>\n",
       "      <td>0.099606</td>\n",
       "    </tr>\n",
       "    <tr>\n",
       "      <td>3DS</td>\n",
       "      <td>22.64</td>\n",
       "      <td>0.079685</td>\n",
       "    </tr>\n",
       "    <tr>\n",
       "      <td>PS3</td>\n",
       "      <td>22.05</td>\n",
       "      <td>0.077608</td>\n",
       "    </tr>\n",
       "    <tr>\n",
       "      <td>Other</td>\n",
       "      <td>31.25</td>\n",
       "      <td>0.109989</td>\n",
       "    </tr>\n",
       "  </tbody>\n",
       "</table>\n",
       "</div>"
      ],
      "text/plain": [
       "          na_sales  percentage\n",
       "platform                      \n",
       "PS4          98.61    0.347072\n",
       "XOne         81.27    0.286041\n",
       "X360         28.30    0.099606\n",
       "3DS          22.64    0.079685\n",
       "PS3          22.05    0.077608\n",
       "Other        31.25    0.109989"
      ]
     },
     "metadata": {},
     "output_type": "display_data"
    },
    {
     "data": {
      "image/png": "[encoded data removed]",
      "text/plain": [
       "<Figure size 360x360 with 1 Axes>"
      ]
     },
     "metadata": {},
     "output_type": "display_data"
    },
    {
     "name": "stdout",
     "output_type": "stream",
     "text": [
      "\n",
      "Top-5 best jp_sales platforms\n"
     ]
    },
    {
     "data": {
      "text/html": [
       "<div>\n",
       "<style scoped>\n",
       "    .dataframe tbody tr th:only-of-type {\n",
       "        vertical-align: middle;\n",
       "    }\n",
       "\n",
       "    .dataframe tbody tr th {\n",
       "        vertical-align: top;\n",
       "    }\n",
       "\n",
       "    .dataframe thead th {\n",
       "        text-align: right;\n",
       "    }\n",
       "</style>\n",
       "<table border=\"1\" class=\"dataframe\">\n",
       "  <thead>\n",
       "    <tr style=\"text-align: right;\">\n",
       "      <th></th>\n",
       "      <th>jp_sales</th>\n",
       "      <th>percentage</th>\n",
       "    </tr>\n",
       "    <tr>\n",
       "      <th>platform</th>\n",
       "      <th></th>\n",
       "      <th></th>\n",
       "    </tr>\n",
       "  </thead>\n",
       "  <tbody>\n",
       "    <tr>\n",
       "      <td>3DS</td>\n",
       "      <td>44.24</td>\n",
       "      <td>0.475239</td>\n",
       "    </tr>\n",
       "    <tr>\n",
       "      <td>PS4</td>\n",
       "      <td>15.02</td>\n",
       "      <td>0.161349</td>\n",
       "    </tr>\n",
       "    <tr>\n",
       "      <td>PSV</td>\n",
       "      <td>14.54</td>\n",
       "      <td>0.156193</td>\n",
       "    </tr>\n",
       "    <tr>\n",
       "      <td>PS3</td>\n",
       "      <td>11.22</td>\n",
       "      <td>0.120529</td>\n",
       "    </tr>\n",
       "    <tr>\n",
       "      <td>WiiU</td>\n",
       "      <td>7.31</td>\n",
       "      <td>0.078526</td>\n",
       "    </tr>\n",
       "    <tr>\n",
       "      <td>Other</td>\n",
       "      <td>0.76</td>\n",
       "      <td>0.008164</td>\n",
       "    </tr>\n",
       "  </tbody>\n",
       "</table>\n",
       "</div>"
      ],
      "text/plain": [
       "          jp_sales  percentage\n",
       "platform                      \n",
       "3DS          44.24    0.475239\n",
       "PS4          15.02    0.161349\n",
       "PSV          14.54    0.156193\n",
       "PS3          11.22    0.120529\n",
       "WiiU          7.31    0.078526\n",
       "Other         0.76    0.008164"
      ]
     },
     "metadata": {},
     "output_type": "display_data"
    },
    {
     "data": {
      "image/png": "[encoded data removed]",
      "text/plain": [
       "<Figure size 360x360 with 1 Axes>"
      ]
     },
     "metadata": {},
     "output_type": "display_data"
    }
   ],
   "source": [
    "# In japan users prefer to play on portable devices\n",
    "# In north america, Wii seems more popular than in Europe.\n",
    "# We can explain this by the more social branding of the Wii.\n",
    "def show_region_share(region, dimention):\n",
    "    total_sale = all_actual_data[region].sum()\n",
    "    region_sales = all_actual_data.pivot_table(index = dimention, values = [region], aggfunc = 'sum').sort_values(by = region, ascending=False).head()\n",
    "    other = total_sale - region_sales[region].sum()\n",
    "    region_sales = region_sales.reset_index()\n",
    "    region_sales = region_sales.append({dimention: 'Other', region: other}, ignore_index=True)\n",
    "    region_sales = region_sales.set_index(dimention)\n",
    "    region_sales['percentage'] = region_sales[region] / total_sale\n",
    "    display(region_sales)\n",
    "    region_sales.plot.pie(y='percentage', figsize=(5, 5),autopct=lambda x: '{:.1f}%'.format(x))\n",
    "    plt.show()\n",
    "\n",
    "region_name=['eu_sales','na_sales','jp_sales']\n",
    "for item in region_name:\n",
    "    print()\n",
    "    print(\"Top-5 best {} platforms\".format(item))\n",
    "    show_region_share(item, 'platform')\n"
   ]
  },
  {
   "cell_type": "markdown",
   "metadata": {},
   "source": [
    "Построим таблицы с разбивкой по регионам. Сгруппируем данные по жанрам и по продажам (в данном регионе), в отдельном столбце рассчитаем обьем продаж по жанрам относительно всех продаж по региону. Визуализируем полученные данные (доли продаж по каждому жанру в регионе) с помощью графиков pie chart"
   ]
  },
  {
   "cell_type": "code",
   "execution_count": 32,
   "metadata": {},
   "outputs": [
    {
     "name": "stdout",
     "output_type": "stream",
     "text": [
      "\n",
      "Top-5 best eu_sales genres\n"
     ]
    },
    {
     "data": {
      "text/html": [
       "<div>\n",
       "<style scoped>\n",
       "    .dataframe tbody tr th:only-of-type {\n",
       "        vertical-align: middle;\n",
       "    }\n",
       "\n",
       "    .dataframe tbody tr th {\n",
       "        vertical-align: top;\n",
       "    }\n",
       "\n",
       "    .dataframe thead th {\n",
       "        text-align: right;\n",
       "    }\n",
       "</style>\n",
       "<table border=\"1\" class=\"dataframe\">\n",
       "  <thead>\n",
       "    <tr style=\"text-align: right;\">\n",
       "      <th></th>\n",
       "      <th>eu_sales</th>\n",
       "      <th>percentage</th>\n",
       "    </tr>\n",
       "    <tr>\n",
       "      <th>genre</th>\n",
       "      <th></th>\n",
       "      <th></th>\n",
       "    </tr>\n",
       "  </thead>\n",
       "  <tbody>\n",
       "    <tr>\n",
       "      <td>Action</td>\n",
       "      <td>74.93</td>\n",
       "      <td>0.276566</td>\n",
       "    </tr>\n",
       "    <tr>\n",
       "      <td>Shooter</td>\n",
       "      <td>65.52</td>\n",
       "      <td>0.241834</td>\n",
       "    </tr>\n",
       "    <tr>\n",
       "      <td>Sports</td>\n",
       "      <td>45.73</td>\n",
       "      <td>0.168789</td>\n",
       "    </tr>\n",
       "    <tr>\n",
       "      <td>Role-Playing</td>\n",
       "      <td>28.17</td>\n",
       "      <td>0.103975</td>\n",
       "    </tr>\n",
       "    <tr>\n",
       "      <td>Racing</td>\n",
       "      <td>14.13</td>\n",
       "      <td>0.052154</td>\n",
       "    </tr>\n",
       "    <tr>\n",
       "      <td>Other</td>\n",
       "      <td>42.45</td>\n",
       "      <td>0.156683</td>\n",
       "    </tr>\n",
       "  </tbody>\n",
       "</table>\n",
       "</div>"
      ],
      "text/plain": [
       "              eu_sales  percentage\n",
       "genre                             \n",
       "Action           74.93    0.276566\n",
       "Shooter          65.52    0.241834\n",
       "Sports           45.73    0.168789\n",
       "Role-Playing     28.17    0.103975\n",
       "Racing           14.13    0.052154\n",
       "Other            42.45    0.156683"
      ]
     },
     "metadata": {},
     "output_type": "display_data"
    },
    {
     "data": {
      "image/png": "[encoded data removed]",
      "text/plain": [
       "<Figure size 360x360 with 1 Axes>"
      ]
     },
     "metadata": {},
     "output_type": "display_data"
    },
    {
     "name": "stdout",
     "output_type": "stream",
     "text": [
      "\n",
      "Top-5 best na_sales genres\n"
     ]
    },
    {
     "data": {
      "text/html": [
       "<div>\n",
       "<style scoped>\n",
       "    .dataframe tbody tr th:only-of-type {\n",
       "        vertical-align: middle;\n",
       "    }\n",
       "\n",
       "    .dataframe tbody tr th {\n",
       "        vertical-align: top;\n",
       "    }\n",
       "\n",
       "    .dataframe thead th {\n",
       "        text-align: right;\n",
       "    }\n",
       "</style>\n",
       "<table border=\"1\" class=\"dataframe\">\n",
       "  <thead>\n",
       "    <tr style=\"text-align: right;\">\n",
       "      <th></th>\n",
       "      <th>na_sales</th>\n",
       "      <th>percentage</th>\n",
       "    </tr>\n",
       "    <tr>\n",
       "      <th>genre</th>\n",
       "      <th></th>\n",
       "      <th></th>\n",
       "    </tr>\n",
       "  </thead>\n",
       "  <tbody>\n",
       "    <tr>\n",
       "      <td>Shooter</td>\n",
       "      <td>79.02</td>\n",
       "      <td>0.278122</td>\n",
       "    </tr>\n",
       "    <tr>\n",
       "      <td>Action</td>\n",
       "      <td>72.59</td>\n",
       "      <td>0.255491</td>\n",
       "    </tr>\n",
       "    <tr>\n",
       "      <td>Sports</td>\n",
       "      <td>46.13</td>\n",
       "      <td>0.162361</td>\n",
       "    </tr>\n",
       "    <tr>\n",
       "      <td>Role-Playing</td>\n",
       "      <td>33.47</td>\n",
       "      <td>0.117802</td>\n",
       "    </tr>\n",
       "    <tr>\n",
       "      <td>Misc</td>\n",
       "      <td>15.05</td>\n",
       "      <td>0.052971</td>\n",
       "    </tr>\n",
       "    <tr>\n",
       "      <td>Other</td>\n",
       "      <td>37.86</td>\n",
       "      <td>0.133254</td>\n",
       "    </tr>\n",
       "  </tbody>\n",
       "</table>\n",
       "</div>"
      ],
      "text/plain": [
       "              na_sales  percentage\n",
       "genre                             \n",
       "Shooter          79.02    0.278122\n",
       "Action           72.59    0.255491\n",
       "Sports           46.13    0.162361\n",
       "Role-Playing     33.47    0.117802\n",
       "Misc             15.05    0.052971\n",
       "Other            37.86    0.133254"
      ]
     },
     "metadata": {},
     "output_type": "display_data"
    },
    {
     "data": {
      "image/png": "[encoded data removed]",
      "text/plain": [
       "<Figure size 360x360 with 1 Axes>"
      ]
     },
     "metadata": {},
     "output_type": "display_data"
    },
    {
     "name": "stdout",
     "output_type": "stream",
     "text": [
      "\n",
      "Top-5 best jp_sales genres\n"
     ]
    },
    {
     "data": {
      "text/html": [
       "<div>\n",
       "<style scoped>\n",
       "    .dataframe tbody tr th:only-of-type {\n",
       "        vertical-align: middle;\n",
       "    }\n",
       "\n",
       "    .dataframe tbody tr th {\n",
       "        vertical-align: top;\n",
       "    }\n",
       "\n",
       "    .dataframe thead th {\n",
       "        text-align: right;\n",
       "    }\n",
       "</style>\n",
       "<table border=\"1\" class=\"dataframe\">\n",
       "  <thead>\n",
       "    <tr style=\"text-align: right;\">\n",
       "      <th></th>\n",
       "      <th>jp_sales</th>\n",
       "      <th>percentage</th>\n",
       "    </tr>\n",
       "    <tr>\n",
       "      <th>genre</th>\n",
       "      <th></th>\n",
       "      <th></th>\n",
       "    </tr>\n",
       "  </thead>\n",
       "  <tbody>\n",
       "    <tr>\n",
       "      <td>Role-Playing</td>\n",
       "      <td>31.16</td>\n",
       "      <td>0.334730</td>\n",
       "    </tr>\n",
       "    <tr>\n",
       "      <td>Action</td>\n",
       "      <td>29.58</td>\n",
       "      <td>0.317757</td>\n",
       "    </tr>\n",
       "    <tr>\n",
       "      <td>Fighting</td>\n",
       "      <td>6.37</td>\n",
       "      <td>0.068428</td>\n",
       "    </tr>\n",
       "    <tr>\n",
       "      <td>Misc</td>\n",
       "      <td>5.61</td>\n",
       "      <td>0.060264</td>\n",
       "    </tr>\n",
       "    <tr>\n",
       "      <td>Shooter</td>\n",
       "      <td>4.87</td>\n",
       "      <td>0.052315</td>\n",
       "    </tr>\n",
       "    <tr>\n",
       "      <td>Other</td>\n",
       "      <td>15.50</td>\n",
       "      <td>0.166506</td>\n",
       "    </tr>\n",
       "  </tbody>\n",
       "</table>\n",
       "</div>"
      ],
      "text/plain": [
       "              jp_sales  percentage\n",
       "genre                             \n",
       "Role-Playing     31.16    0.334730\n",
       "Action           29.58    0.317757\n",
       "Fighting          6.37    0.068428\n",
       "Misc              5.61    0.060264\n",
       "Shooter           4.87    0.052315\n",
       "Other            15.50    0.166506"
      ]
     },
     "metadata": {},
     "output_type": "display_data"
    },
    {
     "data": {
      "image/png": "[encoded data removed]",
      "text/plain": [
       "<Figure size 360x360 with 1 Axes>"
      ]
     },
     "metadata": {},
     "output_type": "display_data"
    }
   ],
   "source": [
    "#User portrait is similar between Europe and North America. They prefer Action, Sports and Shooter games.\n",
    "#In Japan the user is different and prefer Role Playing game. But action game is still popular in Japan.\n",
    "for item in region_name:\n",
    "    print()\n",
    "    print(\"Top-5 best {} genres\".format(item))\n",
    "    show_region_share(item, 'genre')\n"
   ]
  },
  {
   "cell_type": "markdown",
   "metadata": {},
   "source": [
    "Построим таблицы с разбивкой по регионам. Сгруппируем данные по рейтингу ESRB и по продажам (в данном регионе), в отдельном столбце рассчитаем обьем продаж по каждой категории рейтинга относительно всех продаж по региону. Визуализируем полученные данные (доли продаж по каждой категории в регионе) с помощью графиков pie chart"
   ]
  },
  {
   "cell_type": "code",
   "execution_count": 33,
   "metadata": {},
   "outputs": [
    {
     "data": {
      "text/html": [
       "<div>\n",
       "<style scoped>\n",
       "    .dataframe tbody tr th:only-of-type {\n",
       "        vertical-align: middle;\n",
       "    }\n",
       "\n",
       "    .dataframe tbody tr th {\n",
       "        vertical-align: top;\n",
       "    }\n",
       "\n",
       "    .dataframe thead th {\n",
       "        text-align: right;\n",
       "    }\n",
       "</style>\n",
       "<table border=\"1\" class=\"dataframe\">\n",
       "  <thead>\n",
       "    <tr style=\"text-align: right;\">\n",
       "      <th></th>\n",
       "      <th>eu_sales</th>\n",
       "      <th>percentage</th>\n",
       "    </tr>\n",
       "    <tr>\n",
       "      <th>rating</th>\n",
       "      <th></th>\n",
       "      <th></th>\n",
       "    </tr>\n",
       "  </thead>\n",
       "  <tbody>\n",
       "    <tr>\n",
       "      <td>M</td>\n",
       "      <td>93.69</td>\n",
       "      <td>0.345809</td>\n",
       "    </tr>\n",
       "    <tr>\n",
       "      <td>E</td>\n",
       "      <td>58.06</td>\n",
       "      <td>0.214299</td>\n",
       "    </tr>\n",
       "    <tr>\n",
       "      <td>T</td>\n",
       "      <td>34.07</td>\n",
       "      <td>0.125752</td>\n",
       "    </tr>\n",
       "    <tr>\n",
       "      <td>E10+</td>\n",
       "      <td>26.16</td>\n",
       "      <td>0.096556</td>\n",
       "    </tr>\n",
       "    <tr>\n",
       "      <td>Other</td>\n",
       "      <td>58.95</td>\n",
       "      <td>0.217584</td>\n",
       "    </tr>\n",
       "  </tbody>\n",
       "</table>\n",
       "</div>"
      ],
      "text/plain": [
       "        eu_sales  percentage\n",
       "rating                      \n",
       "M          93.69    0.345809\n",
       "E          58.06    0.214299\n",
       "T          34.07    0.125752\n",
       "E10+       26.16    0.096556\n",
       "Other      58.95    0.217584"
      ]
     },
     "metadata": {},
     "output_type": "display_data"
    },
    {
     "data": {
      "image/png": "[encoded data removed]",
      "text/plain": [
       "<Figure size 360x360 with 1 Axes>"
      ]
     },
     "metadata": {},
     "output_type": "display_data"
    },
    {
     "data": {
      "text/html": [
       "<div>\n",
       "<style scoped>\n",
       "    .dataframe tbody tr th:only-of-type {\n",
       "        vertical-align: middle;\n",
       "    }\n",
       "\n",
       "    .dataframe tbody tr th {\n",
       "        vertical-align: top;\n",
       "    }\n",
       "\n",
       "    .dataframe thead th {\n",
       "        text-align: right;\n",
       "    }\n",
       "</style>\n",
       "<table border=\"1\" class=\"dataframe\">\n",
       "  <thead>\n",
       "    <tr style=\"text-align: right;\">\n",
       "      <th></th>\n",
       "      <th>na_sales</th>\n",
       "      <th>percentage</th>\n",
       "    </tr>\n",
       "    <tr>\n",
       "      <th>rating</th>\n",
       "      <th></th>\n",
       "      <th></th>\n",
       "    </tr>\n",
       "  </thead>\n",
       "  <tbody>\n",
       "    <tr>\n",
       "      <td>M</td>\n",
       "      <td>96.48</td>\n",
       "      <td>0.339575</td>\n",
       "    </tr>\n",
       "    <tr>\n",
       "      <td>E</td>\n",
       "      <td>50.74</td>\n",
       "      <td>0.178587</td>\n",
       "    </tr>\n",
       "    <tr>\n",
       "      <td>T</td>\n",
       "      <td>38.95</td>\n",
       "      <td>0.137090</td>\n",
       "    </tr>\n",
       "    <tr>\n",
       "      <td>E10+</td>\n",
       "      <td>33.23</td>\n",
       "      <td>0.116958</td>\n",
       "    </tr>\n",
       "    <tr>\n",
       "      <td>Other</td>\n",
       "      <td>64.72</td>\n",
       "      <td>0.227791</td>\n",
       "    </tr>\n",
       "  </tbody>\n",
       "</table>\n",
       "</div>"
      ],
      "text/plain": [
       "        na_sales  percentage\n",
       "rating                      \n",
       "M          96.48    0.339575\n",
       "E          50.74    0.178587\n",
       "T          38.95    0.137090\n",
       "E10+       33.23    0.116958\n",
       "Other      64.72    0.227791"
      ]
     },
     "metadata": {},
     "output_type": "display_data"
    },
    {
     "data": {
      "image/png": "[encoded data removed]",
      "text/plain": [
       "<Figure size 360x360 with 1 Axes>"
      ]
     },
     "metadata": {},
     "output_type": "display_data"
    },
    {
     "data": {
      "text/html": [
       "<div>\n",
       "<style scoped>\n",
       "    .dataframe tbody tr th:only-of-type {\n",
       "        vertical-align: middle;\n",
       "    }\n",
       "\n",
       "    .dataframe tbody tr th {\n",
       "        vertical-align: top;\n",
       "    }\n",
       "\n",
       "    .dataframe thead th {\n",
       "        text-align: right;\n",
       "    }\n",
       "</style>\n",
       "<table border=\"1\" class=\"dataframe\">\n",
       "  <thead>\n",
       "    <tr style=\"text-align: right;\">\n",
       "      <th></th>\n",
       "      <th>jp_sales</th>\n",
       "      <th>percentage</th>\n",
       "    </tr>\n",
       "    <tr>\n",
       "      <th>rating</th>\n",
       "      <th></th>\n",
       "      <th></th>\n",
       "    </tr>\n",
       "  </thead>\n",
       "  <tbody>\n",
       "    <tr>\n",
       "      <td>T</td>\n",
       "      <td>14.78</td>\n",
       "      <td>0.158771</td>\n",
       "    </tr>\n",
       "    <tr>\n",
       "      <td>E</td>\n",
       "      <td>8.94</td>\n",
       "      <td>0.096036</td>\n",
       "    </tr>\n",
       "    <tr>\n",
       "      <td>M</td>\n",
       "      <td>8.01</td>\n",
       "      <td>0.086046</td>\n",
       "    </tr>\n",
       "    <tr>\n",
       "      <td>E10+</td>\n",
       "      <td>4.46</td>\n",
       "      <td>0.047911</td>\n",
       "    </tr>\n",
       "    <tr>\n",
       "      <td>Other</td>\n",
       "      <td>56.90</td>\n",
       "      <td>0.611236</td>\n",
       "    </tr>\n",
       "  </tbody>\n",
       "</table>\n",
       "</div>"
      ],
      "text/plain": [
       "        jp_sales  percentage\n",
       "rating                      \n",
       "T          14.78    0.158771\n",
       "E           8.94    0.096036\n",
       "M           8.01    0.086046\n",
       "E10+        4.46    0.047911\n",
       "Other      56.90    0.611236"
      ]
     },
     "metadata": {},
     "output_type": "display_data"
    },
    {
     "data": {
      "image/png": "[encoded data removed]",
      "text/plain": [
       "<Figure size 360x360 with 1 Axes>"
      ]
     },
     "metadata": {},
     "output_type": "display_data"
    }
   ],
   "source": [
    "#User portait between North America and Europe is similar.\n",
    "for item in region_name:\n",
    "    show_region_share(item, 'rating')\n"
   ]
  },
  {
   "cell_type": "markdown",
   "metadata": {},
   "source": [
    "### Вывод"
   ]
  },
  {
   "cell_type": "markdown",
   "metadata": {},
   "source": [
    "- Построив сводные таблицы продаж по регионам, мы выяснили, что в Северной Америке наиболее популярны платформы - Wii и Xbox, мы предположили, что американские пользователи предпочитают командные игры, поэтому данные платформы в лидерах продаж. В Европе пользователи предпочитают игры на аналогичных платформах, однако продажи по ним почти 2 раза ниже чем в Северной Америке. В Японии популярны консоли локального производителя Nintendo 3DS, мы предположили, что пользователи предпочитают играть в одиночные игры, а так же в свободное время в дороге, поэтому предпочитают портативные консоли\n",
    "- Построив сводные таблицы жанров по регионам мы выяснили, что в Северной Америке особой популярностью пользуются жанры Action, Sport и Shooter, прибыль по этим жанрам растет, причина в появлении большого количества новинок по этим жанрам, а так же простота игровой механики. Эти же жанры предпочитают и в Европе, однако объем продаж по ним меньше чем в Америке. В Японии самым популярным жанром является Role-Playing game.\n",
    "- Построив сводные таблицы рейтинга ESRB по регионам, мы заметили, что игры с рейтингами Everyone (E), Mature (M) имеют наибольшую долю продаж как в Северной Америке, так и в Европе. Также мы отметили, что игры с данными рейтингами имели не такой большой объем продаж в Японии, причиной может быть довольно закрытый рынок видеоигр в японии от иностранных компаний. Наиболее популярны в Японии игры с рейтингом Teen (T)"
   ]
  },
  {
   "cell_type": "markdown",
   "metadata": {},
   "source": [
    "### Шаг 5. Проверка гипотез"
   ]
  },
  {
   "cell_type": "code",
   "execution_count": 34,
   "metadata": {},
   "outputs": [
    {
     "data": {
      "text/html": [
       "<div>\n",
       "<style scoped>\n",
       "    .dataframe tbody tr th:only-of-type {\n",
       "        vertical-align: middle;\n",
       "    }\n",
       "\n",
       "    .dataframe tbody tr th {\n",
       "        vertical-align: top;\n",
       "    }\n",
       "\n",
       "    .dataframe thead tr th {\n",
       "        text-align: left;\n",
       "    }\n",
       "\n",
       "    .dataframe thead tr:last-of-type th {\n",
       "        text-align: right;\n",
       "    }\n",
       "</style>\n",
       "<table border=\"1\" class=\"dataframe\">\n",
       "  <thead>\n",
       "    <tr>\n",
       "      <th></th>\n",
       "      <th>mean</th>\n",
       "      <th>median</th>\n",
       "      <th>var</th>\n",
       "      <th>std</th>\n",
       "      <th>amax</th>\n",
       "    </tr>\n",
       "    <tr>\n",
       "      <th></th>\n",
       "      <th>user_score</th>\n",
       "      <th>user_score</th>\n",
       "      <th>user_score</th>\n",
       "      <th>user_score</th>\n",
       "      <th>user_score</th>\n",
       "    </tr>\n",
       "    <tr>\n",
       "      <th>platform</th>\n",
       "      <th></th>\n",
       "      <th></th>\n",
       "      <th></th>\n",
       "      <th></th>\n",
       "      <th></th>\n",
       "    </tr>\n",
       "  </thead>\n",
       "  <tbody>\n",
       "    <tr>\n",
       "      <td>PC</td>\n",
       "      <td>6.318280</td>\n",
       "      <td>6.8</td>\n",
       "      <td>2.893575</td>\n",
       "      <td>1.701051</td>\n",
       "      <td>9.3</td>\n",
       "    </tr>\n",
       "    <tr>\n",
       "      <td>XOne</td>\n",
       "      <td>6.675353</td>\n",
       "      <td>6.9</td>\n",
       "      <td>1.872916</td>\n",
       "      <td>1.368545</td>\n",
       "      <td>9.2</td>\n",
       "    </tr>\n",
       "  </tbody>\n",
       "</table>\n",
       "</div>"
      ],
      "text/plain": [
       "               mean     median        var        std       amax\n",
       "         user_score user_score user_score user_score user_score\n",
       "platform                                                       \n",
       "PC         6.318280        6.8   2.893575   1.701051        9.3\n",
       "XOne       6.675353        6.9   1.872916   1.368545        9.2"
      ]
     },
     "execution_count": 34,
     "metadata": {},
     "output_type": "execute_result"
    }
   ],
   "source": [
    "#calculate average, std and var by platforms XOne and PC, results will be usefull for further t-test ,var almost equal\n",
    "stat_data = all_actual_data.query('platform == \"XOne\"| platform == \"PC\"').pivot_table(index= 'platform', values = 'user_score',aggfunc= [np.mean,np.median, np.var, np.std, np.max])\n",
    "stat_data"
   ]
  },
  {
   "cell_type": "code",
   "execution_count": 35,
   "metadata": {},
   "outputs": [],
   "source": [
    "#create a segment by platform XOne\n",
    "Xbox_rate = all_actual_data.query('platform == \"XOne\"')['user_score'].reset_index()\n",
    "#do segment by platform PC\n",
    "PC_rate = all_actual_data.query('platform == \"PC\"')['user_score'].reset_index()"
   ]
  },
  {
   "cell_type": "code",
   "execution_count": 36,
   "metadata": {},
   "outputs": [
    {
     "data": {
      "text/plain": [
       "<matplotlib.axes._subplots.AxesSubplot at 0x7ff90bc1b850>"
      ]
     },
     "execution_count": 36,
     "metadata": {},
     "output_type": "execute_result"
    },
    {
     "data": {
      "image/png": "[encoded data removed]",
      "text/plain": [
       "<Figure size 432x288 with 1 Axes>"
      ]
     },
     "metadata": {
      "needs_background": "light"
     },
     "output_type": "display_data"
    }
   ],
   "source": [
    "#create a hist to check distribution\n",
    "pl.title(\"User score by Xbox and PC platform\")\n",
    "pl.xlabel(\"user score\")\n",
    "pl.ylabel(\"frequency\")\n",
    "PC_patch = mpatches.Patch(color='#1B62A5', alpha=0.5, label='PC')\n",
    "Xbox_patch = mpatches.Patch(color='#FD690F', alpha=0.5, label='Xbox')\n",
    "plt.legend(handles=[PC_patch, Xbox_patch])\n",
    "PC_rate.user_score.hist(alpha=0.5,bins = 30)\n",
    "Xbox_rate.user_score.hist(alpha=0.5, bins = 30)"
   ]
  },
  {
   "cell_type": "markdown",
   "metadata": {},
   "source": [
    "Так как H₀ всегда формулируется так, чтобы использовать знак равенства, наша нулевая гипотеза: Средние пользовательские рейтинги платформ Xbox One и PC одинаковые(равны). Исходя из H₀ наша альтернативная гипотеза H₁: Средние пользовательские рейтинги платформ Xbox One и PC не одинаковы(не равны).\n",
    "Чтобы проверить гипотезу о равенстве среднего двух генеральных совокупностей по взятым из них выборкам, мы использовали t-тест: применили метод scipy.stats.ttest_ind (array1, array2, equal_var) . Так как значения дисперсий почти равны указали equal_var - True по дефолту"
   ]
  },
  {
   "cell_type": "code",
   "execution_count": 37,
   "metadata": {},
   "outputs": [
    {
     "name": "stdout",
     "output_type": "stream",
     "text": [
      "p-значение: 0.041420459453229835\n",
      "Отвергаем нулевую гипотезу\n"
     ]
    }
   ],
   "source": [
    "#do t-test to prove hypothesis, alfa 5% by default\n",
    "\n",
    "alpha = .05 # критический уровень статистической значимости\n",
    "            # если p-value окажется меньше него - отвергнем гипотезу\n",
    "\n",
    "results = st.ttest_ind(\n",
    "    Xbox_rate.user_score, \n",
    "    PC_rate.user_score, nan_policy=\"omit\")\n",
    "\n",
    "print('p-значение:', results.pvalue)\n",
    "\n",
    "if (results.pvalue < alpha):\n",
    "    print(\"Отвергаем нулевую гипотезу\")\n",
    "else:\n",
    "    print(\"Не получилось отвергнуть нулевую гипотезу\")\n",
    "\n"
   ]
  },
  {
   "cell_type": "markdown",
   "metadata": {},
   "source": [
    "Полученное значение p-value менее критического уровня значимости, это значит, что мы можем отвергнуть нулевую гипотезу о равенстве средних пользовательских рейтингов платформ Xbox One и PC "
   ]
  },
  {
   "cell_type": "code",
   "execution_count": 38,
   "metadata": {},
   "outputs": [
    {
     "data": {
      "text/html": [
       "<div>\n",
       "<style scoped>\n",
       "    .dataframe tbody tr th:only-of-type {\n",
       "        vertical-align: middle;\n",
       "    }\n",
       "\n",
       "    .dataframe tbody tr th {\n",
       "        vertical-align: top;\n",
       "    }\n",
       "\n",
       "    .dataframe thead tr th {\n",
       "        text-align: left;\n",
       "    }\n",
       "\n",
       "    .dataframe thead tr:last-of-type th {\n",
       "        text-align: right;\n",
       "    }\n",
       "</style>\n",
       "<table border=\"1\" class=\"dataframe\">\n",
       "  <thead>\n",
       "    <tr>\n",
       "      <th></th>\n",
       "      <th>mean</th>\n",
       "      <th>median</th>\n",
       "      <th>var</th>\n",
       "      <th>std</th>\n",
       "      <th>amax</th>\n",
       "    </tr>\n",
       "    <tr>\n",
       "      <th></th>\n",
       "      <th>user_score</th>\n",
       "      <th>user_score</th>\n",
       "      <th>user_score</th>\n",
       "      <th>user_score</th>\n",
       "      <th>user_score</th>\n",
       "    </tr>\n",
       "    <tr>\n",
       "      <th>genre</th>\n",
       "      <th></th>\n",
       "      <th></th>\n",
       "      <th></th>\n",
       "      <th></th>\n",
       "      <th></th>\n",
       "    </tr>\n",
       "  </thead>\n",
       "  <tbody>\n",
       "    <tr>\n",
       "      <td>Action</td>\n",
       "      <td>6.793966</td>\n",
       "      <td>7.1</td>\n",
       "      <td>1.904411</td>\n",
       "      <td>1.380004</td>\n",
       "      <td>9.1</td>\n",
       "    </tr>\n",
       "    <tr>\n",
       "      <td>Sports</td>\n",
       "      <td>5.186972</td>\n",
       "      <td>5.5</td>\n",
       "      <td>3.305237</td>\n",
       "      <td>1.818031</td>\n",
       "      <td>8.8</td>\n",
       "    </tr>\n",
       "  </tbody>\n",
       "</table>\n",
       "</div>"
      ],
      "text/plain": [
       "             mean     median        var        std       amax\n",
       "       user_score user_score user_score user_score user_score\n",
       "genre                                                        \n",
       "Action   6.793966        7.1   1.904411   1.380004        9.1\n",
       "Sports   5.186972        5.5   3.305237   1.818031        8.8"
      ]
     },
     "execution_count": 38,
     "metadata": {},
     "output_type": "execute_result"
    }
   ],
   "source": [
    "#calculate average, std and var by genres Action and Sports results will be usefull for further t-test\n",
    "stat_data = all_actual_data.query('genre == \"Action\"| genre == \"Sports\"').pivot_table(index= 'genre', values = 'user_score',aggfunc= [np.mean,np.median, np.var, np.std, np.max])\n",
    "stat_data"
   ]
  },
  {
   "cell_type": "code",
   "execution_count": 39,
   "metadata": {},
   "outputs": [],
   "source": [
    "#create a segment by genre Action\n",
    "Action_rate = all_actual_data.query('genre == \"Action\"')['user_score'].reset_index()\n",
    "#do segment by genre Sports\n",
    "Sports_rate = all_actual_data.query('genre == \"Sports\"')['user_score'].reset_index()\n"
   ]
  },
  {
   "cell_type": "code",
   "execution_count": 40,
   "metadata": {},
   "outputs": [
    {
     "data": {
      "text/plain": [
       "<matplotlib.axes._subplots.AxesSubplot at 0x7ff8e019be10>"
      ]
     },
     "execution_count": 40,
     "metadata": {},
     "output_type": "execute_result"
    },
    {
     "data": {
      "image/png": "[encoded data removed]",
      "text/plain": [
       "<Figure size 432x288 with 1 Axes>"
      ]
     },
     "metadata": {
      "needs_background": "light"
     },
     "output_type": "display_data"
    }
   ],
   "source": [
    "#create a hist to check distribution\n",
    "pl.title(\"User score by Action and Sports genre\")\n",
    "pl.xlabel(\"user score\")\n",
    "pl.ylabel(\"frequency\")\n",
    "Action_patch = mpatches.Patch(color='#1B62A5', alpha=0.5, label='Action_patch')\n",
    "Sports_patch = mpatches.Patch(color='#FD690F', alpha=0.5, label='Sports_patch')\n",
    "plt.legend(handles=[Action_patch, Sports_patch])\n",
    "Action_rate.user_score.hist(alpha=0.5)\n",
    "Sports_rate.user_score.hist(alpha=0.5)"
   ]
  },
  {
   "cell_type": "markdown",
   "metadata": {},
   "source": [
    "Нулевая гипотеза: Средние пользовательские рейтинги жанров Action и Sports равны.\n",
    "\n",
    "Альтернативная гипотеза H₁: Средние пользовательские рейтинги жанров Action и Sports разные (не равны).\n",
    "\n",
    "Чтобы проверить гипотезу о равенстве среднего двух генеральных совокупностей по взятым из них выборкам, мы использовали t-тест: применили метод scipy.stats.ttest_ind (array1, array2, equal_var) . В качестве альфа приняли общепринятое пороговое значение — 5%"
   ]
  },
  {
   "cell_type": "code",
   "execution_count": 41,
   "metadata": {},
   "outputs": [
    {
     "name": "stdout",
     "output_type": "stream",
     "text": [
      "p-значение: 7.659539395331613e-24\n",
      "Отвергаем нулевую гипотезу\n"
     ]
    }
   ],
   "source": [
    "alpha = .05 # критический уровень статистической значимости\n",
    "            # если p-value окажется меньше него - отвергнем гипотезу\n",
    "\n",
    "results = st.ttest_ind(\n",
    "    Action_rate.user_score, \n",
    "    Sports_rate.user_score, nan_policy=\"omit\")\n",
    "\n",
    "print('p-значение:', results.pvalue)\n",
    "\n",
    "if (results.pvalue < alpha):\n",
    "    print(\"Отвергаем нулевую гипотезу\")\n",
    "else:\n",
    "    print(\"Не получилось отвергнуть нулевую гипотезу\")\n"
   ]
  },
  {
   "cell_type": "markdown",
   "metadata": {},
   "source": [
    "Полученное значение p-value меньше критического уровня значимости, это значит, что мы можем отвергнуть нулевую гипотезу о равенстве средних пользовательских рейтингов жанров Action и Sports, следовательно можем предположить , что они разные"
   ]
  },
  {
   "cell_type": "markdown",
   "metadata": {},
   "source": [
    "### Шаг 6. Общий вывод"
   ]
  },
  {
   "cell_type": "markdown",
   "metadata": {},
   "source": [
    "Задача — установить параметры определяющие успешность компьютерной игры с целью возможности прогнозирования рекламных кампаний.\n",
    "\n",
    "На первом этапе анализа из открытых источников мы получили сырые данные о продажах игр, оценках пользователей и экспертов, жанрах и платформах до 2016 года. Далее мы проверили типы данных методом info и обнаружили, что не все данные содержат корректный тип. Методом isna.sum() мы выявили количество пропущенных значений в каждом столбце. Также, изучив датасет, мы заметили, что в столбце user_score содержатся числовые и строковые(tbd) значения.\n",
    "\n",
    "Второй этап состоял из подготовки данных к анализу. Мы отфильтровали пропущенные значения в столбце year_of_release, так как они составляли меньше 1,5% от всего датасета и поменяли тип данных на целочисленный. Так как в остальных столбцах с пропущенными значениями последние составляли более 40%, без возможности логической замены, мы приняли решение оставить эти значения без изменений. В одном из столбцов мы заметили аббревиатуру tbd и предположив, что это значение эквивалентно значению о недостаточном количестве данных, мы заменили tbd на None, получив при этом возможность поменять тип данных на float. Также мы добавили дополнительную метрику о сумме всех продаж в отдельный столбец.\n",
    "\n",
    "На третьем этапе анализа мы построили распределение релизов игр по годам и пришли к выводу, что некоторые данные являются устаревшими(начало гейм индустрии) и мы можем не учитывать их в дальнейшем. Далее с помощью графика plot мы построили распределение продаж по платформам в разбивке по годам и пришли к выводу, что средний жизненный цикл платформы занимает около 5-7 лет, поэтому для последующего прогнозирования мы отфильтровали данные до 2005 года, оставив один полный жизненный цикл платформ и его смену на новое поколение.\n",
    "\n",
    "Следующим пунктом третьего этапа мы рассчитали отношение продаж 2015 года и 2014 и выяснили, что некоторые платформы не смотря на значительную прибыль теряют позиции в росте обьема продаж, а некоторые новые платформы (XOne,PS4) начинают активно расти. Далее мы построили диаграммы размаха продаж по платформам и выяснили, что данные по продажам на платформах нового поколения Xone и PS4 распределены нормально, то есть медиана совпадает со средним значением. По платформе WiiU(новое поколение) мы обнаружили, что датасет скошен влево, то есть продажи меньше медианных, а там же обнаружили выбросы ниже 1 квартиля, что говорит об аномально низких продажах.Далее с помощью графика Scatterplot и метода corr() мы обнаружили корреляцию между продажами и оценками критиков и не обнаружили корреляции между продажами и пользовательскими оценками, скорее всего данные в этом столбце довольно субьективны и при дальнейшем прогнозировании мы будем опираться на оценки критиков.Следующим шагом мы сгруппировали данные продаж по жанрам и выяснили, что лидерами продаж являются игры в жанрах Shooter, Platform, Sports.Мы предположии, что механика в данных играх может быть проста для большинства пользователей, а так же релизы большого количества новинок по этим жанрам могут являться причинами лидерства этих жанров.\n",
    "\n",
    "Четвертым этапом мы проанализировали поведение пользователей по регионам. Вначале мы выделили топ 5 платформ в каждом регионе и предположили, что в Северной Америке и Европе пользователи предпочитают платформы, где возможно участие нескольких пользователей (командные игры). В Японии пользователи предпочитают портативные консоли от локального производителя, так как данные платформы позволяют пользователям играть в дороге или др. местах. Далее мы разбили продажи по регионам и жанрам и выяснили, что в Северной Америке и Европе популярны жанры  Action, Sports, Shooter, однако в обьем продаж в Европе уступает продажам в Америке. В Японии самым популярным является жанр Role-Playing game. Также распределив данные продаж по регионам и рейтингу ESRB мы выяснили интересный факт, о том, что игры с рейтингами Adults Only(AO), Early Childhood(EC) и Rating Pending (RP) не имеют продаж в Японии,так как маркет видеоигр в Японии довольно закрытый, мы предположили, что игры с данными рейтингами или без него(Rating Pending) не продаются в Японии и локальные производители также не выпускают игры с данным контентом.\n",
    "\n",
    "Заключительным этапом анализа была проверка гипотез. Выделив две платформы: новая растущая в продажах консоль XOne и стабильно существующий на рынке персональный компьютер, мы вычислили статистически значимые метрики  по оценкам пользователей и выяснили, что дисперсии на обоих платформах почти равны. Основываясь на этих данных мы предположили, что средние пользовательские рейтинги платформ Xbox One и PC могут быть одинаковы. Для того чтобы определить противоречат ли данные нашей гипотезе, мы с помощью t-test, метода scipy.stats.ttest_ind (array1, array2, equal_var) выяснили, что полученное значение p-value менее критического уровня значимости (в качестве альфа приняли общепринятое пороговое значение — 5%), это значит, что мы можем отвергнуть нулевую гипотезу о равенстве средних пользовательских рейтингов платформ Xbox One и PC.\n",
    "\n",
    "Следующей нашей нулевой гипотезой было равенство cредних пользовательских рейтингов жанров Action и Sports, соответственно альтернативная гипотеза заключалась в том, что средние пользовательские рейтинги не равны. Используя t-test, метод scipy.stats.ttest_ind (array1, array2, equal_var) выяснили, что полученное значение p-value больше критического уровня значимости (в качестве альфа приняли общепринятое пороговое значение — 5%), а это значит, что мы не можем отвергнуть нулевую гипотезу о равенстве средних пользовательских рейтингов жанров Action и Sports, следовательно не можем предполагать , что они равны.\n"
   ]
  }
 ],
 "metadata": {
  "kernelspec": {
   "display_name": "Python 3",
   "language": "python",
   "name": "python3"
  },
  "language_info": {
   "codemirror_mode": {
    "name": "ipython",
    "version": 3
   },
   "file_extension": ".py",
   "mimetype": "text/x-python",
   "name": "python",
   "nbconvert_exporter": "python",
   "pygments_lexer": "ipython3",
   "version": "3.7.6"
  }
 },
 "nbformat": 4,
 "nbformat_minor": 2
}
