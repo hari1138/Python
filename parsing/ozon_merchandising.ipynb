{
 "cells": [
  {
   "cell_type": "code",
   "execution_count": 81,
   "metadata": {},
   "outputs": [],
   "source": [
    "import requests\n",
    "from bs4 import BeautifulSoup\n",
    "import json\n",
    "\n",
    "import requests\n",
    "\n",
    "cookies = {\n",
    "    'vsclient': '%5B%22w22yc9imurfmsyrihr8k48%22%2C1598362321.384%2C0%5D',\n",
    "    'visid_incap_1101384': 'q4FPkFZnTv23BWfLW6+oKqYZel4AAAAAQkIPAAAAAACAuGuWAVnQSaId6Bdi3gEa2IBwC5Ikd5eZ',\n",
    "    '_ga': 'GA1.2.965909137.1585060164',\n",
    "    '__exponea_etc__': '1ce4e5e8-6ddc-11ea-987d-f609493d6531',\n",
    "    'flocktory-uuid': 'aee57c79-4ae0-440f-8039-6e7e5188f969-3',\n",
    "    'cto_bundle': 'YynOHV9hR0JlM2FLMW1pWG94UExYNG16JTJCWjRHTm9ub202RTZHSzdKa1J1Y2xxbUpOOTNnVlBBT1J1UVlsTEV0QzU0b1VTUUdsTEJyWHJVRENlZFBGRUQ3MVdXTlBVWiUyRjl1TlZHWDhwRjdtJTJGUG5sQkl2bEFxUG5UVzBxYmlVZG5DZUZpRGtVJTJGNUE3RHB6emNkam9pdDZjN0VzQSUzRCUzRA',\n",
    "    'tmr_reqNum': '237',\n",
    "    'tmr_lvid': 'c4dbcb1bd51302c3723c51233b014170',\n",
    "    'tmr_lvidTS': '1585060165393',\n",
    "    '__sonar': '3334726236764824030',\n",
    "    'access_token': '2.0.4sF/7RPXQb6TZUKgFbckUw.61.lscMBQAAAABeejZsAAAAAKN3ZWKgAICQ..20200829175027.daG7XpMXDLcEUQQ7Rg18GJ1GJaFDw9jLdmUVVDBXGug',\n",
    "    'refresh_token': '2.0.4sF/7RPXQb6TZUKgFbckUw.61.lscMBQAAAABeejZsAAAAAKN3ZWKgAICQ..20200829175027.sDkMp5en9DoIbJXYN1K5acsrWVXCiy84Z4pB1VP6cmg',\n",
    "    'token_expiration': '2020-08-29T20:50:27.3571504+03:00',\n",
    "    'abGroup': '61',\n",
    "    'SessionID': '4sF/7RPXQb6TZUKgFbckUw',\n",
    "    '__Secure-access-token': '2.0.4sF/7RPXQb6TZUKgFbckUw.61.lscMBQAAAABeejZsAAAAAKN3ZWKgAICQ..20200829175027.daG7XpMXDLcEUQQ7Rg18GJ1GJaFDw9jLdmUVVDBXGug',\n",
    "    '__Secure-refresh-token': '2.0.4sF/7RPXQb6TZUKgFbckUw.61.lscMBQAAAABeejZsAAAAAKN3ZWKgAICQ..20200829175027.sDkMp5en9DoIbJXYN1K5acsrWVXCiy84Z4pB1VP6cmg',\n",
    "    '__Secure-token-expiration': '2020-08-29T20:50:27.3571504+03:00',\n",
    "    '__Secure-ab-group': '61',\n",
    "    '__Secure-session-id': '4sF/7RPXQb6TZUKgFbckUw',\n",
    "    '_gcl_au': '1.1.583206064.1593716557',\n",
    "    'cnt_of_orders': '0',\n",
    "    'isBuyer': '0',\n",
    "    '_fbp': 'fb.1.1593716558508.1448727674',\n",
    "    'xcid': '3ef29b9292261a50385f2cb2e625c756',\n",
    "    '__Secure-ext_xcid': '9ca42809f6cb70421fc4f2641718b5b9',\n",
    "    'nlbi_1101384': 'Ls5tYC8iimsLt58J4hlqwwAAAACDHp6qC7PHPQ2ft424/Jr2',\n",
    "    'visid_incap_2254350': 'DnTlrsGXQtSsVHynZLBbmjppPV8AAAAAQUIPAAAAAAAWiqS1P8D+3DDnrZVni4BV',\n",
    "    'nlbi_2254350': '/6d/Ajj9llOZQxkAT0+5mAAAAABlLypQfj8nd7a8s1PkJkNy',\n",
    "    '_ym_uid': '1597860155984481316',\n",
    "    '_ym_d': '1597860155',\n",
    "    'h_prem4': 'false',\n",
    "    'incap_ses_584_1101384': 'vRIjSSx5rAaqdizKGMkaCEMSRV8AAAAA58xkxJkeLqK3t4VtrkMI8A==',\n",
    "    'incap_ses_586_1101384': 'Cl/DdbNlqiAQ3PF2CuQhCHlrQ18AAAAA7u46ocqb9a9R0TgPtmb/5A==',\n",
    "    'incap_ses_581_1101384': 'eXsfdfIUzyFreZneqiAQCOseRF8AAAAAqOfI7NFfpXTdnAsjMJJyEg==',\n",
    "    'incap_ses_583_1101384': '4TGIOEs0mlatuXsnmjsXCI2mRl8AAAAAbvh6tJC3/Vcji9cXQDDxYA==',\n",
    "    'incap_ses_582_1101384': 'Bow8b2QKV0UCxhUoLq4TCEN5Sl8AAAAAhwp1MXhqAuhthNabn2KVcA==',\n",
    "    '_gid': 'GA1.2.920637699.1598716229',\n",
    "    '_dc_gtm_UA-37420525-1': '1',\n",
    "    '__exponea_time2__': '0.2071399688720703',\n",
    "    'tmr_detect': '0%7C1598716281782',\n",
    "    '_gat_UA-37420525-1': '1',\n",
    "}\n",
    "\n",
    "headers = {\n",
    "    'User-Agent': 'Mozilla/5.0 (Macintosh; Intel Mac OS X 10.14; rv:79.0) Gecko/20100101 Firefox/79.0',\n",
    "    'Accept': 'text/html,application/xhtml+xml,application/xml;q=0.9,image/webp,*/*;q=0.8',\n",
    "    'Accept-Language': 'en-US,en;q=0.5',\n",
    "    'Referer': 'https://www.ozon.ru/category/detskie-podguzniki-7064/?text=%D0%BF%D0%BE%D0%B4%D0%B3%D1%83%D0%B7%D0%BD%D0%B8%D0%BA%D0%B8+%D0%B4%D0%BB%D1%8F+%D0%BD%D0%BE%D0%B2%D0%BE%D1%80%D0%BE%D0%B6%D0%B4%D0%B5%D0%BD%D0%BD%D1%8B%D1%85&from_global=true',\n",
    "    'Upgrade-Insecure-Requests': '1',\n",
    "    'Connection': 'keep-alive',\n",
    "    'Cache-Control': 'max-age=0',\n",
    "}\n",
    "\n",
    "params = (\n",
    "    ('text', '\\u043F\\u043E\\u0434\\u0433\\u0443\\u0437\\u043D\\u0438\\u043A\\u0438 \\u0434\\u043B\\u044F \\u043D\\u043E\\u0432\\u043E\\u0440\\u043E\\u0436\\u0434\\u0435\\u043D\\u043D\\u044B\\u0445'),\n",
    "    ('from_global', 'true'),\n",
    ")\n",
    "# params = (\n",
    "#     ('text', '\\u044F\\u043F\\u043E\\u043D\\u0441\\u043A\\u0438\\u0435 \\u043F\\u043E\\u0434\\u0433\\u0443\\u0437\\u043D\\u0438\\u043A\\u0438'),\n",
    "#     ('from_global', 'true'),\n",
    "# )\n",
    "response = requests.get('https://www.ozon.ru/category/detskie-podguzniki-7064/', headers=headers, params=params, cookies=cookies)\n",
    "\n",
    "#response = requests.get('https://www.ozon.ru/category/podguzniki-i-gigiena-7058/', headers=headers, params=params, cookies=cookies)\n",
    "\n",
    "\n",
    "\n"
   ]
  },
  {
   "cell_type": "code",
   "execution_count": 82,
   "metadata": {},
   "outputs": [],
   "source": [
    "soup = BeautifulSoup(response.text)\n",
    "script = soup.select_one('#state-searchResultsV2-311201-default-1')\n",
    "ozon_parse = json.loads(script.get_text())"
   ]
  },
  {
   "cell_type": "code",
   "execution_count": 83,
   "metadata": {},
   "outputs": [],
   "source": [
    "full_product_list = []"
   ]
  },
  {
   "cell_type": "code",
   "execution_count": 84,
   "metadata": {
    "scrolled": true
   },
   "outputs": [],
   "source": [
    "#url = 'https://www.ozon.ru/context/detail/id/32953513/'\n",
    "#response = requests.get(url, headers=headers, params=params, cookies=cookies)\n",
    "#soup = BeautifulSoup(response.text)\n",
    "#customer_images = len(soup.select('img.b7p4.o7'))\n",
    "#customer_images\n",
    "#soup\n",
    "# params = (\n",
    "#     ('url', '/context/detail/id/32953513/?layout_container=pdpPage2column&layout_page_index=2'),\n",
    "# )\n",
    "# response = requests.get('https://www.ozon.ru/webapi/composer-api.bx/page/json/v2', headers=headers, params=params, cookies=cookies)\n",
    "# tags_data = json.loads(response.text)\n",
    "# tags = json.loads(tags_data['widgetStates']['tagList-293086-pdpPage2column-2'])['items']\n",
    "# names = []\n",
    "# for tag in tags:\n",
    "#     names.append(tag['name'])\n",
    "# star_1 = 0\n",
    "# star_2 = 0\n",
    "# star_3 = 0\n",
    "# star_4 = 0\n",
    "# star_5 = 0\n",
    "# for item in score:\n",
    "#     if item['title'] == '1 звезда':\n",
    "#         star_1 = item['value']\n",
    "#     if item['title'] == '2 звезды':\n",
    "#         star_2 = item['value']\n",
    "#     if item['title'] == '3 звезды':\n",
    "#         star_3 = item['value']\n",
    "#     if item['title'] == '4 звезды':\n",
    "#         star_4 = item['value']\n",
    "#     if item['title'] == '5 звезд':\n",
    "#         star_5 = item['value']\n",
    "\n",
    "# name = ','.join(names)\n",
    "# name"
   ]
  },
  {
   "cell_type": "code",
   "execution_count": 89,
   "metadata": {},
   "outputs": [],
   "source": [
    "def parse_variant(link):\n",
    "    url = 'https://www.ozon.ru' + link\n",
    "    response = requests.get(url, headers=headers, params=params, cookies=cookies)\n",
    "    soup = BeautifulSoup(response.text)\n",
    "    img_count = len(soup.select('.a8r6 > .a8r9 > img.o5'))\n",
    "    print(img_count)\n",
    "    script = soup.select_one('script[type*=\"application/ld+json\"]')\n",
    "    parse = json.loads(script.get_text())\n",
    "    rating = parse['aggregateRating']['ratingValue']\n",
    "    review = parse['aggregateRating']['reviewCount']\n",
    "    brand = parse['brand']\n",
    "    description = parse['description']\n",
    "    name = parse['name']\n",
    "\n",
    "    script = soup.select_one('#state-webCharacteristics-371659-default-1')\n",
    "    parse = json.loads(script.get_text())\n",
    "    product_type = None\n",
    "    price_per_item = None\n",
    "    child_weight = None\n",
    "    size = None\n",
    "    items = None\n",
    "    for elem in parse['characteristics'][0]['short']:\n",
    "        if elem['name'] == 'Тип':\n",
    "            product_type = elem['values'][0]['text']\n",
    "        if elem['name'] == 'Цена за шт':\n",
    "            price_per_item = elem['values'][0]['text']\n",
    "        if elem['name'] == 'Вес ребенка':\n",
    "            child_weight = elem['values'][0]['text']\n",
    "        if elem['name'] == 'Размер подгузника':\n",
    "            size = elem['values'][0]['text']\n",
    "        if elem['name'] == 'Единиц в одном товаре':\n",
    "            items = elem['values'][0]['text']\n",
    "    \n",
    "    param = (\n",
    "        ('url', link + '?layout_container=pdpReviews&layout_page_index=2'),\n",
    "    )\n",
    "    response = requests.get('https://www.ozon.ru/webapi/composer-api.bx/page/json/v2', headers=headers, params=param, cookies=cookies)\n",
    "    rating_data = json.loads(response.text)\n",
    "    score = json.loads(rating_data['widgetStates']['webReviewProductScore-404493-pdpReviews-2'])['score']\n",
    "    star_1 = 0\n",
    "    star_2 = 0\n",
    "    star_3 = 0\n",
    "    star_4 = 0\n",
    "    star_5 = 0\n",
    "    for item in score:\n",
    "        if item['title'] == '1 звезда':\n",
    "            star_1 = item['value']\n",
    "        if item['title'] == '2 звезды':\n",
    "            star_2 = item['value']\n",
    "        if item['title'] == '3 звезды':\n",
    "            star_3 = item['value']\n",
    "        if item['title'] == '4 звезды':\n",
    "            star_4 = item['value']\n",
    "        if item['title'] == '5 звезд':\n",
    "            star_5 = item['value']\n",
    "    \n",
    "    param = (\n",
    "        ('url', link+ '?layout_container=pdpPage2column&layout_page_index=2'),\n",
    "    )\n",
    "    response = requests.get('https://www.ozon.ru/webapi/composer-api.bx/page/json/v2', headers=headers, params=param, cookies=cookies)\n",
    "    tags_data = json.loads(response.text)\n",
    "    tags = json.loads(tags_data['widgetStates']['tagList-293086-pdpPage2column-2'])['items']\n",
    "    names = []\n",
    "    for tag in tags:\n",
    "        names.append(tag['name'])\n",
    "    name = ','.join(names)\n",
    "    \n",
    "    script = soup.select_one('#state-webSale-362406-default-1')\n",
    "    parse = json.loads(script.get_text())\n",
    "    if 'originalPrice' in parse['offers'][0]:\n",
    "        original_price = parse['offers'][0]['originalPrice']\n",
    "    else:\n",
    "        original_price = None\n",
    "    price = parse['offers'][0]['price']\n",
    "    available = parse['offers'][0]['isAvailable']\n",
    "\n",
    "    full_product_list.append([link,img_count,rating, star_1, star_2, star_3, star_4, star_5, review,\n",
    "                              brand,description,name,product_type,\n",
    "                              price_per_item,child_weight,size,items,original_price,price,available,name])\n",
    "    \n",
    "    \n"
   ]
  },
  {
   "cell_type": "code",
   "execution_count": 86,
   "metadata": {},
   "outputs": [],
   "source": [
    "def parse_product(link):\n",
    "    url = 'https://www.ozon.ru' + link\n",
    "    response = requests.get(url, headers=headers, params=params, cookies=cookies)\n",
    "    soup = BeautifulSoup(response.text)\n",
    "    script = soup.select_one('#state-webAspects-350590-default-1')\n",
    "    if script is None:\n",
    "        parse_variant(link)\n",
    "    else:\n",
    "        ozon_parse = json.loads(script.get_text())\n",
    "        aspects = ozon_parse['aspects']\n",
    "        for aspect in aspects:\n",
    "            if aspect['descriptionRs'][0]['content']== 'Размер подгузника:':\n",
    "                variants_size = aspect['variants']\n",
    "                for variant in variants_size:\n",
    "                    parse_variant(variant['link'])\n",
    "            if aspect['descriptionRs'][0]['content']== 'Единиц в одном товаре:':\n",
    "                variants_item = aspect['variants']\n",
    "                for variant in variants_item:\n",
    "                    parse_variant(variant['link'])\n",
    "        \n",
    "    "
   ]
  },
  {
   "cell_type": "code",
   "execution_count": 87,
   "metadata": {
    "scrolled": false
   },
   "outputs": [
    {
     "name": "stdout",
     "output_type": "stream",
     "text": [
      "/context/detail/id/32953513/\n",
      "/context/detail/id/154444477/\n",
      "/context/detail/id/154444474/\n",
      "/context/detail/id/7600460/\n"
     ]
    },
    {
     "ename": "KeyError",
     "evalue": "'webReviewProductScore-404493-pdpReviews-2'",
     "output_type": "error",
     "traceback": [
      "\u001b[0;31m---------------------------------------------------------------------------\u001b[0m",
      "\u001b[0;31mKeyError\u001b[0m                                  Traceback (most recent call last)",
      "\u001b[0;32m<ipython-input-87-2582536277db>\u001b[0m in \u001b[0;36m<module>\u001b[0;34m\u001b[0m\n\u001b[1;32m      3\u001b[0m     \u001b[0mlink\u001b[0m \u001b[0;34m=\u001b[0m \u001b[0mitem\u001b[0m\u001b[0;34m[\u001b[0m\u001b[0;34m'link'\u001b[0m\u001b[0;34m]\u001b[0m\u001b[0;34m\u001b[0m\u001b[0;34m\u001b[0m\u001b[0m\n\u001b[1;32m      4\u001b[0m     \u001b[0mprint\u001b[0m\u001b[0;34m(\u001b[0m\u001b[0mlink\u001b[0m\u001b[0;34m)\u001b[0m\u001b[0;34m\u001b[0m\u001b[0;34m\u001b[0m\u001b[0m\n\u001b[0;32m----> 5\u001b[0;31m     \u001b[0mparse_product\u001b[0m\u001b[0;34m(\u001b[0m\u001b[0mlink\u001b[0m\u001b[0;34m)\u001b[0m\u001b[0;34m\u001b[0m\u001b[0;34m\u001b[0m\u001b[0m\n\u001b[0m",
      "\u001b[0;32m<ipython-input-86-ea0abecd21ca>\u001b[0m in \u001b[0;36mparse_product\u001b[0;34m(link)\u001b[0m\n\u001b[1;32m     13\u001b[0m                 \u001b[0mvariants_size\u001b[0m \u001b[0;34m=\u001b[0m \u001b[0maspect\u001b[0m\u001b[0;34m[\u001b[0m\u001b[0;34m'variants'\u001b[0m\u001b[0;34m]\u001b[0m\u001b[0;34m\u001b[0m\u001b[0;34m\u001b[0m\u001b[0m\n\u001b[1;32m     14\u001b[0m                 \u001b[0;32mfor\u001b[0m \u001b[0mvariant\u001b[0m \u001b[0;32min\u001b[0m \u001b[0mvariants_size\u001b[0m\u001b[0;34m:\u001b[0m\u001b[0;34m\u001b[0m\u001b[0;34m\u001b[0m\u001b[0m\n\u001b[0;32m---> 15\u001b[0;31m                     \u001b[0mparse_variant\u001b[0m\u001b[0;34m(\u001b[0m\u001b[0mvariant\u001b[0m\u001b[0;34m[\u001b[0m\u001b[0;34m'link'\u001b[0m\u001b[0;34m]\u001b[0m\u001b[0;34m)\u001b[0m\u001b[0;34m\u001b[0m\u001b[0;34m\u001b[0m\u001b[0m\n\u001b[0m\u001b[1;32m     16\u001b[0m             \u001b[0;32mif\u001b[0m \u001b[0maspect\u001b[0m\u001b[0;34m[\u001b[0m\u001b[0;34m'descriptionRs'\u001b[0m\u001b[0;34m]\u001b[0m\u001b[0;34m[\u001b[0m\u001b[0;36m0\u001b[0m\u001b[0;34m]\u001b[0m\u001b[0;34m[\u001b[0m\u001b[0;34m'content'\u001b[0m\u001b[0;34m]\u001b[0m\u001b[0;34m==\u001b[0m \u001b[0;34m'Единиц в одном товаре:'\u001b[0m\u001b[0;34m:\u001b[0m\u001b[0;34m\u001b[0m\u001b[0;34m\u001b[0m\u001b[0m\n\u001b[1;32m     17\u001b[0m                 \u001b[0mvariants_item\u001b[0m \u001b[0;34m=\u001b[0m \u001b[0maspect\u001b[0m\u001b[0;34m[\u001b[0m\u001b[0;34m'variants'\u001b[0m\u001b[0;34m]\u001b[0m\u001b[0;34m\u001b[0m\u001b[0;34m\u001b[0m\u001b[0m\n",
      "\u001b[0;32m<ipython-input-85-a20d47ca14cf>\u001b[0m in \u001b[0;36mparse_variant\u001b[0;34m(link)\u001b[0m\n\u001b[1;32m     36\u001b[0m     \u001b[0mresponse\u001b[0m \u001b[0;34m=\u001b[0m \u001b[0mrequests\u001b[0m\u001b[0;34m.\u001b[0m\u001b[0mget\u001b[0m\u001b[0;34m(\u001b[0m\u001b[0;34m'https://www.ozon.ru/webapi/composer-api.bx/page/json/v2'\u001b[0m\u001b[0;34m,\u001b[0m \u001b[0mheaders\u001b[0m\u001b[0;34m=\u001b[0m\u001b[0mheaders\u001b[0m\u001b[0;34m,\u001b[0m \u001b[0mparams\u001b[0m\u001b[0;34m=\u001b[0m\u001b[0mparam\u001b[0m\u001b[0;34m,\u001b[0m \u001b[0mcookies\u001b[0m\u001b[0;34m=\u001b[0m\u001b[0mcookies\u001b[0m\u001b[0;34m)\u001b[0m\u001b[0;34m\u001b[0m\u001b[0;34m\u001b[0m\u001b[0m\n\u001b[1;32m     37\u001b[0m     \u001b[0mrating_data\u001b[0m \u001b[0;34m=\u001b[0m \u001b[0mjson\u001b[0m\u001b[0;34m.\u001b[0m\u001b[0mloads\u001b[0m\u001b[0;34m(\u001b[0m\u001b[0mresponse\u001b[0m\u001b[0;34m.\u001b[0m\u001b[0mtext\u001b[0m\u001b[0;34m)\u001b[0m\u001b[0;34m\u001b[0m\u001b[0;34m\u001b[0m\u001b[0m\n\u001b[0;32m---> 38\u001b[0;31m     \u001b[0mscore\u001b[0m \u001b[0;34m=\u001b[0m \u001b[0mjson\u001b[0m\u001b[0;34m.\u001b[0m\u001b[0mloads\u001b[0m\u001b[0;34m(\u001b[0m\u001b[0mrating_data\u001b[0m\u001b[0;34m[\u001b[0m\u001b[0;34m'widgetStates'\u001b[0m\u001b[0;34m]\u001b[0m\u001b[0;34m[\u001b[0m\u001b[0;34m'webReviewProductScore-404493-pdpReviews-2'\u001b[0m\u001b[0;34m]\u001b[0m\u001b[0;34m)\u001b[0m\u001b[0;34m[\u001b[0m\u001b[0;34m'score'\u001b[0m\u001b[0;34m]\u001b[0m\u001b[0;34m\u001b[0m\u001b[0;34m\u001b[0m\u001b[0m\n\u001b[0m\u001b[1;32m     39\u001b[0m     \u001b[0mstar_1\u001b[0m \u001b[0;34m=\u001b[0m \u001b[0;36m0\u001b[0m\u001b[0;34m\u001b[0m\u001b[0;34m\u001b[0m\u001b[0m\n\u001b[1;32m     40\u001b[0m     \u001b[0mstar_2\u001b[0m \u001b[0;34m=\u001b[0m \u001b[0;36m0\u001b[0m\u001b[0;34m\u001b[0m\u001b[0;34m\u001b[0m\u001b[0m\n",
      "\u001b[0;31mKeyError\u001b[0m: 'webReviewProductScore-404493-pdpReviews-2'"
     ]
    }
   ],
   "source": [
    "items = ozon_parse['items']\n",
    "for item in items:\n",
    "    link = item['link']\n",
    "    print(link)\n",
    "    parse_product(link)"
   ]
  },
  {
   "cell_type": "code",
   "execution_count": 90,
   "metadata": {},
   "outputs": [
    {
     "name": "stdout",
     "output_type": "stream",
     "text": [
      "0\n"
     ]
    }
   ],
   "source": [
    "parse_variant('/context/detail/id/32953513/')"
   ]
  },
  {
   "cell_type": "code",
   "execution_count": null,
   "metadata": {},
   "outputs": [],
   "source": [
    "print(len(full_product_list))"
   ]
  },
  {
   "cell_type": "code",
   "execution_count": null,
   "metadata": {},
   "outputs": [],
   "source": [
    "import pandas as pd\n",
    "\n",
    "product_data = pd.DataFrame(full_product_list)"
   ]
  },
  {
   "cell_type": "code",
   "execution_count": null,
   "metadata": {},
   "outputs": [],
   "source": [
    "product_data"
   ]
  },
  {
   "cell_type": "code",
   "execution_count": null,
   "metadata": {},
   "outputs": [],
   "source": [
    "product_data.columns = ['link','img_count','rating', 'star_1', 'star_2', 'star_3', 'star_4', 'star_5','review','brand','description','name','product_type','price_per_item','child_weight','size','items','original_price','price','available','name']\n"
   ]
  },
  {
   "cell_type": "code",
   "execution_count": null,
   "metadata": {},
   "outputs": [],
   "source": [
    "#product_data.to_excel(\"OZON_parsing_new.xlsx\")  "
   ]
  },
  {
   "cell_type": "code",
   "execution_count": null,
   "metadata": {},
   "outputs": [],
   "source": [
    "product_data"
   ]
  },
  {
   "cell_type": "code",
   "execution_count": 1,
   "metadata": {},
   "outputs": [
    {
     "name": "stdout",
     "output_type": "stream",
     "text": [
      "Requirement already satisfied: nbconvert in /Library/Frameworks/Python.framework/Versions/3.7/lib/python3.7/site-packages (5.4.1)\n",
      "Requirement already satisfied: jinja2 in /Library/Frameworks/Python.framework/Versions/3.7/lib/python3.7/site-packages (from nbconvert) (2.10)\n",
      "Requirement already satisfied: jupyter-core in /Library/Frameworks/Python.framework/Versions/3.7/lib/python3.7/site-packages (from nbconvert) (4.4.0)\n",
      "Requirement already satisfied: pygments in /Library/Frameworks/Python.framework/Versions/3.7/lib/python3.7/site-packages (from nbconvert) (2.3.1)\n",
      "Requirement already satisfied: testpath in /Library/Frameworks/Python.framework/Versions/3.7/lib/python3.7/site-packages (from nbconvert) (0.4.2)\n",
      "Requirement already satisfied: defusedxml in /Library/Frameworks/Python.framework/Versions/3.7/lib/python3.7/site-packages (from nbconvert) (0.5.0)\n",
      "Requirement already satisfied: traitlets>=4.2 in /Library/Frameworks/Python.framework/Versions/3.7/lib/python3.7/site-packages (from nbconvert) (4.3.2)\n",
      "Requirement already satisfied: nbformat>=4.4 in /Library/Frameworks/Python.framework/Versions/3.7/lib/python3.7/site-packages (from nbconvert) (4.4.0)\n",
      "Requirement already satisfied: pandocfilters>=1.4.1 in /Library/Frameworks/Python.framework/Versions/3.7/lib/python3.7/site-packages (from nbconvert) (1.4.2)\n",
      "Requirement already satisfied: mistune>=0.8.1 in /Library/Frameworks/Python.framework/Versions/3.7/lib/python3.7/site-packages (from nbconvert) (0.8.4)\n",
      "Requirement already satisfied: entrypoints>=0.2.2 in /Library/Frameworks/Python.framework/Versions/3.7/lib/python3.7/site-packages (from nbconvert) (0.3)\n",
      "Requirement already satisfied: bleach in /Library/Frameworks/Python.framework/Versions/3.7/lib/python3.7/site-packages (from nbconvert) (3.1.0)\n",
      "Requirement already satisfied: MarkupSafe>=0.23 in /Library/Frameworks/Python.framework/Versions/3.7/lib/python3.7/site-packages (from jinja2->nbconvert) (1.1.0)\n",
      "Requirement already satisfied: decorator in /Library/Frameworks/Python.framework/Versions/3.7/lib/python3.7/site-packages (from traitlets>=4.2->nbconvert) (4.0.11)\n",
      "Requirement already satisfied: ipython-genutils in /Library/Frameworks/Python.framework/Versions/3.7/lib/python3.7/site-packages (from traitlets>=4.2->nbconvert) (0.2.0)\n",
      "Requirement already satisfied: six in /Library/Frameworks/Python.framework/Versions/3.7/lib/python3.7/site-packages (from traitlets>=4.2->nbconvert) (1.12.0)\n",
      "Requirement already satisfied: jsonschema!=2.5.0,>=2.4 in /Library/Frameworks/Python.framework/Versions/3.7/lib/python3.7/site-packages (from nbformat>=4.4->nbconvert) (3.0.2)\n",
      "Requirement already satisfied: webencodings in /Library/Frameworks/Python.framework/Versions/3.7/lib/python3.7/site-packages (from bleach->nbconvert) (0.5.1)\n",
      "Requirement already satisfied: attrs>=17.4.0 in /Library/Frameworks/Python.framework/Versions/3.7/lib/python3.7/site-packages (from jsonschema!=2.5.0,>=2.4->nbformat>=4.4->nbconvert) (19.1.0)\n",
      "Requirement already satisfied: setuptools in /Library/Frameworks/Python.framework/Versions/3.7/lib/python3.7/site-packages (from jsonschema!=2.5.0,>=2.4->nbformat>=4.4->nbconvert) (40.6.2)\n",
      "Requirement already satisfied: pyrsistent>=0.14.0 in /Library/Frameworks/Python.framework/Versions/3.7/lib/python3.7/site-packages (from jsonschema!=2.5.0,>=2.4->nbformat>=4.4->nbconvert) (0.15.4)\n",
      "\u001b[33mWARNING: You are using pip version 19.1, however version 20.2.2 is available.\n",
      "You should consider upgrading via the 'pip install --upgrade pip' command.\u001b[0m\n"
     ]
    }
   ],
   "source": [
    "!pip install nbconvert"
   ]
  },
  {
   "cell_type": "code",
   "execution_count": 2,
   "metadata": {},
   "outputs": [],
   "source": [
    "!export PATH=/Library/TeX/texbin:$PATH"
   ]
  },
  {
   "cell_type": "code",
   "execution_count": null,
   "metadata": {},
   "outputs": [],
   "source": []
  }
 ],
 "metadata": {
  "kernelspec": {
   "display_name": "Python 3",
   "language": "python",
   "name": "python3"
  },
  "language_info": {
   "codemirror_mode": {
    "name": "ipython",
    "version": 3
   },
   "file_extension": ".py",
   "mimetype": "text/x-python",
   "name": "python",
   "nbconvert_exporter": "python",
   "pygments_lexer": "ipython3",
   "version": "3.7.2"
  }
 },
 "nbformat": 4,
 "nbformat_minor": 2
}
